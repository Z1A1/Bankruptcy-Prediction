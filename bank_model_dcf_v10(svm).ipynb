{
 "cells": [
  {
   "cell_type": "markdown",
   "metadata": {},
   "source": [
    "# Importing necessary packages"
   ]
  },
  {
   "cell_type": "code",
   "execution_count": 1,
   "metadata": {},
   "outputs": [],
   "source": [
    "import numpy as np\n",
    "import pandas as pd \n",
    "import matplotlib.pyplot as plt\n",
    "import seaborn as sns\n",
    "from sklearn.model_selection import train_test_split\n",
    "from sklearn.metrics import confusion_matrix,accuracy_score,classification_report"
   ]
  },
  {
   "cell_type": "markdown",
   "metadata": {},
   "source": [
    "# Loading data set"
   ]
  },
  {
   "cell_type": "code",
   "execution_count": 2,
   "metadata": {},
   "outputs": [],
   "source": [
    "df_skw_co = pd.read_csv(r\"C:\\Users\\User\\BankCurupt\\skw_coret_cln_bank.csv\",sep = ',')"
   ]
  },
  {
   "cell_type": "code",
   "execution_count": 3,
   "metadata": {},
   "outputs": [
    {
     "data": {
      "text/html": [
       "<div>\n",
       "<style scoped>\n",
       "    .dataframe tbody tr th:only-of-type {\n",
       "        vertical-align: middle;\n",
       "    }\n",
       "\n",
       "    .dataframe tbody tr th {\n",
       "        vertical-align: top;\n",
       "    }\n",
       "\n",
       "    .dataframe thead th {\n",
       "        text-align: right;\n",
       "    }\n",
       "</style>\n",
       "<table border=\"1\" class=\"dataframe\">\n",
       "  <thead>\n",
       "    <tr style=\"text-align: right;\">\n",
       "      <th></th>\n",
       "      <th>Attr1</th>\n",
       "      <th>Attr2</th>\n",
       "      <th>Attr3</th>\n",
       "      <th>Attr4</th>\n",
       "      <th>Attr5</th>\n",
       "      <th>Attr6</th>\n",
       "      <th>Attr7</th>\n",
       "      <th>Attr8</th>\n",
       "      <th>Attr9</th>\n",
       "      <th>Attr10</th>\n",
       "      <th>...</th>\n",
       "      <th>Attr56</th>\n",
       "      <th>Attr57</th>\n",
       "      <th>Attr58</th>\n",
       "      <th>Attr59</th>\n",
       "      <th>Attr60</th>\n",
       "      <th>Attr61</th>\n",
       "      <th>Attr62</th>\n",
       "      <th>Attr63</th>\n",
       "      <th>Attr64</th>\n",
       "      <th>class</th>\n",
       "    </tr>\n",
       "  </thead>\n",
       "  <tbody>\n",
       "    <tr>\n",
       "      <th>0</th>\n",
       "      <td>0.834118</td>\n",
       "      <td>0.031094</td>\n",
       "      <td>0.978440</td>\n",
       "      <td>0.017617</td>\n",
       "      <td>0.741344</td>\n",
       "      <td>0.875099</td>\n",
       "      <td>0.322983</td>\n",
       "      <td>0.011637</td>\n",
       "      <td>0.013458</td>\n",
       "      <td>0.750816</td>\n",
       "      <td>...</td>\n",
       "      <td>0.995314</td>\n",
       "      <td>0.756469</td>\n",
       "      <td>0.009528</td>\n",
       "      <td>0.088799</td>\n",
       "      <td>0.003655</td>\n",
       "      <td>0.013877</td>\n",
       "      <td>0.016297</td>\n",
       "      <td>0.012654</td>\n",
       "      <td>0.277543</td>\n",
       "      <td>0</td>\n",
       "    </tr>\n",
       "    <tr>\n",
       "      <th>1</th>\n",
       "      <td>0.830318</td>\n",
       "      <td>0.035191</td>\n",
       "      <td>0.978221</td>\n",
       "      <td>0.016544</td>\n",
       "      <td>0.741265</td>\n",
       "      <td>0.873559</td>\n",
       "      <td>0.322530</td>\n",
       "      <td>0.011069</td>\n",
       "      <td>0.011092</td>\n",
       "      <td>0.750745</td>\n",
       "      <td>...</td>\n",
       "      <td>0.995311</td>\n",
       "      <td>0.755852</td>\n",
       "      <td>0.009532</td>\n",
       "      <td>0.088799</td>\n",
       "      <td>0.002015</td>\n",
       "      <td>0.009195</td>\n",
       "      <td>0.017675</td>\n",
       "      <td>0.008230</td>\n",
       "      <td>0.277490</td>\n",
       "      <td>0</td>\n",
       "    </tr>\n",
       "    <tr>\n",
       "      <th>2</th>\n",
       "      <td>0.835345</td>\n",
       "      <td>0.024954</td>\n",
       "      <td>0.980172</td>\n",
       "      <td>0.025679</td>\n",
       "      <td>0.741636</td>\n",
       "      <td>0.873560</td>\n",
       "      <td>0.323122</td>\n",
       "      <td>0.014547</td>\n",
       "      <td>0.015327</td>\n",
       "      <td>0.751664</td>\n",
       "      <td>...</td>\n",
       "      <td>0.995322</td>\n",
       "      <td>0.756308</td>\n",
       "      <td>0.009482</td>\n",
       "      <td>0.088799</td>\n",
       "      <td>0.002602</td>\n",
       "      <td>0.010925</td>\n",
       "      <td>0.015979</td>\n",
       "      <td>0.015947</td>\n",
       "      <td>0.278090</td>\n",
       "      <td>0</td>\n",
       "    </tr>\n",
       "    <tr>\n",
       "      <th>3</th>\n",
       "      <td>0.834666</td>\n",
       "      <td>0.037560</td>\n",
       "      <td>0.977635</td>\n",
       "      <td>0.014879</td>\n",
       "      <td>0.741095</td>\n",
       "      <td>0.873560</td>\n",
       "      <td>0.323050</td>\n",
       "      <td>0.010558</td>\n",
       "      <td>0.014099</td>\n",
       "      <td>0.750486</td>\n",
       "      <td>...</td>\n",
       "      <td>0.995352</td>\n",
       "      <td>0.756829</td>\n",
       "      <td>0.009456</td>\n",
       "      <td>0.088912</td>\n",
       "      <td>0.002859</td>\n",
       "      <td>0.013745</td>\n",
       "      <td>0.016553</td>\n",
       "      <td>0.011177</td>\n",
       "      <td>0.277513</td>\n",
       "      <td>0</td>\n",
       "    </tr>\n",
       "    <tr>\n",
       "      <th>4</th>\n",
       "      <td>0.831538</td>\n",
       "      <td>0.028123</td>\n",
       "      <td>0.978924</td>\n",
       "      <td>0.019947</td>\n",
       "      <td>0.741467</td>\n",
       "      <td>0.874206</td>\n",
       "      <td>0.322672</td>\n",
       "      <td>0.012643</td>\n",
       "      <td>0.013307</td>\n",
       "      <td>0.751112</td>\n",
       "      <td>...</td>\n",
       "      <td>0.995307</td>\n",
       "      <td>0.755990</td>\n",
       "      <td>0.009555</td>\n",
       "      <td>0.088799</td>\n",
       "      <td>0.002985</td>\n",
       "      <td>0.012217</td>\n",
       "      <td>0.016158</td>\n",
       "      <td>0.013799</td>\n",
       "      <td>0.277552</td>\n",
       "      <td>0</td>\n",
       "    </tr>\n",
       "  </tbody>\n",
       "</table>\n",
       "<p>5 rows × 65 columns</p>\n",
       "</div>"
      ],
      "text/plain": [
       "      Attr1     Attr2     Attr3     Attr4     Attr5     Attr6     Attr7  \\\n",
       "0  0.834118  0.031094  0.978440  0.017617  0.741344  0.875099  0.322983   \n",
       "1  0.830318  0.035191  0.978221  0.016544  0.741265  0.873559  0.322530   \n",
       "2  0.835345  0.024954  0.980172  0.025679  0.741636  0.873560  0.323122   \n",
       "3  0.834666  0.037560  0.977635  0.014879  0.741095  0.873560  0.323050   \n",
       "4  0.831538  0.028123  0.978924  0.019947  0.741467  0.874206  0.322672   \n",
       "\n",
       "      Attr8     Attr9    Attr10  ...    Attr56    Attr57    Attr58    Attr59  \\\n",
       "0  0.011637  0.013458  0.750816  ...  0.995314  0.756469  0.009528  0.088799   \n",
       "1  0.011069  0.011092  0.750745  ...  0.995311  0.755852  0.009532  0.088799   \n",
       "2  0.014547  0.015327  0.751664  ...  0.995322  0.756308  0.009482  0.088799   \n",
       "3  0.010558  0.014099  0.750486  ...  0.995352  0.756829  0.009456  0.088912   \n",
       "4  0.012643  0.013307  0.751112  ...  0.995307  0.755990  0.009555  0.088799   \n",
       "\n",
       "     Attr60    Attr61    Attr62    Attr63    Attr64  class  \n",
       "0  0.003655  0.013877  0.016297  0.012654  0.277543      0  \n",
       "1  0.002015  0.009195  0.017675  0.008230  0.277490      0  \n",
       "2  0.002602  0.010925  0.015979  0.015947  0.278090      0  \n",
       "3  0.002859  0.013745  0.016553  0.011177  0.277513      0  \n",
       "4  0.002985  0.012217  0.016158  0.013799  0.277552      0  \n",
       "\n",
       "[5 rows x 65 columns]"
      ]
     },
     "execution_count": 3,
     "metadata": {},
     "output_type": "execute_result"
    }
   ],
   "source": [
    "df_skw_co.columns\n",
    "\n",
    "df_skw_co.head()\n"
   ]
  },
  {
   "cell_type": "markdown",
   "metadata": {},
   "source": [
    "# finding correlation "
   ]
  },
  {
   "cell_type": "code",
   "execution_count": 4,
   "metadata": {},
   "outputs": [
    {
     "name": "stdout",
     "output_type": "stream",
     "text": [
      "           Attr1     Attr2     Attr3     Attr4     Attr5     Attr6     Attr7  \\\n",
      "Attr1   1.000000 -0.402451  0.445954  0.353987  0.248595  0.352221  0.990038   \n",
      "Attr2  -0.402451  1.000000 -0.674794 -0.767921 -0.443321 -0.335614 -0.400809   \n",
      "Attr3   0.445954 -0.674794  1.000000  0.832420  0.499594  0.243293  0.451828   \n",
      "Attr4   0.353987 -0.767921  0.832420  1.000000  0.532188  0.189013  0.355938   \n",
      "Attr5   0.248595 -0.443321  0.499594  0.532188  1.000000  0.146317  0.249944   \n",
      "Attr6   0.352221 -0.335614  0.243293  0.189013  0.146317  1.000000  0.355067   \n",
      "Attr7   0.990038 -0.400809  0.451828  0.355938  0.249944  0.355067  1.000000   \n",
      "Attr8   0.322322 -0.921985  0.597363  0.821090  0.440367  0.229393  0.320750   \n",
      "Attr9   0.232516  0.109372  0.090816 -0.041007  0.067417 -0.164057  0.238692   \n",
      "Attr10  0.437217 -0.971400  0.683561  0.714873  0.433799  0.339977  0.434861   \n",
      "Attr11  0.955141 -0.329324  0.414400  0.317581  0.227165  0.296791  0.967341   \n",
      "Attr12  0.754900 -0.589505  0.507212  0.644534  0.382013  0.276549  0.761442   \n",
      "Attr13  0.708271 -0.445432  0.370009  0.393933  0.279324  0.310695  0.706870   \n",
      "Attr14  0.990024 -0.400785  0.451802  0.355912  0.249927  0.355061  0.999985   \n",
      "Attr15  0.066969  0.124282 -0.064413 -0.123843 -0.067796  0.038884  0.057053   \n",
      "Attr16  0.667604 -0.647170  0.519195  0.647555  0.372046  0.260644  0.669319   \n",
      "Attr17  0.324480 -0.936314  0.603913  0.818888  0.439600  0.247799  0.323182   \n",
      "Attr18  0.989698 -0.400581  0.451574  0.355720  0.249806  0.354922  0.999654   \n",
      "Attr19  0.835254 -0.459455  0.433297  0.413229  0.302390  0.369646  0.840014   \n",
      "Attr20 -0.192415  0.035958  0.069573  0.042141 -0.190024 -0.007206 -0.201954   \n",
      "Attr21  0.018570  0.040895  0.056310  0.075039  0.040599 -0.241455  0.026271   \n",
      "Attr22  0.859353 -0.265690  0.333566  0.243798  0.179852  0.326258  0.881934   \n",
      "Attr23  0.844923 -0.454084  0.428417  0.406170  0.301343  0.368607  0.833967   \n",
      "Attr24  0.811322 -0.412077  0.422097  0.341449  0.231624  0.502781  0.819423   \n",
      "Attr25  0.464230 -0.744729  0.543489  0.517638  0.317559  0.534227  0.466946   \n",
      "Attr26  0.667403 -0.641635  0.510440  0.640462  0.369801  0.254777  0.660205   \n",
      "Attr27  0.150641 -0.179304  0.188382  0.223691  0.127301 -0.083603  0.146854   \n",
      "Attr28  0.276257 -0.226993  0.643087  0.424907  0.256350  0.026261  0.286461   \n",
      "Attr29 -0.065388 -0.012424 -0.153604 -0.124403 -0.102770  0.313452 -0.072447   \n",
      "Attr30 -0.465477  0.609596 -0.567196 -0.494530 -0.427716 -0.295236 -0.471878   \n",
      "...          ...       ...       ...       ...       ...       ...       ...   \n",
      "Attr36  0.226037  0.144456  0.056141 -0.113675  0.031831 -0.002293  0.234760   \n",
      "Attr37  0.181565 -0.337839  0.322077  0.297661  0.161943 -0.001830  0.192375   \n",
      "Attr38  0.337474 -0.819650  0.623030  0.697793  0.419215  0.286234  0.332280   \n",
      "Attr39  0.677750 -0.297700  0.300565  0.258379  0.174687  0.383066  0.691674   \n",
      "Attr40  0.264044 -0.617229  0.586246  0.811048  0.452755  0.110076  0.269912   \n",
      "Attr41 -0.078534  0.220623 -0.131231 -0.164948 -0.126395 -0.091617 -0.099091   \n",
      "Attr42  0.739836 -0.307015  0.302091  0.270457  0.196094  0.375035  0.754653   \n",
      "Attr43 -0.191199  0.052329  0.120298  0.096988 -0.041642 -0.076007 -0.197336   \n",
      "Attr44 -0.082951  0.047822  0.096753  0.061719  0.103107 -0.046599 -0.083926   \n",
      "Attr45  0.278339 -0.167408  0.142084  0.186212  0.191674 -0.012567  0.285532   \n",
      "Attr46  0.342491 -0.698371  0.713128  0.928202  0.548872  0.145907  0.346786   \n",
      "Attr47 -0.100161 -0.005736  0.130249  0.094554 -0.164601 -0.007371 -0.113633   \n",
      "Attr48  0.799220 -0.242772  0.327565  0.236515  0.171997  0.315834  0.821610   \n",
      "Attr49  0.674091 -0.219094  0.275541  0.197759  0.167123  0.345259  0.690541   \n",
      "Attr50  0.400114 -0.828816  0.811189  0.891105  0.483594  0.230269  0.404458   \n",
      "Attr51 -0.298231  0.835163 -0.626713 -0.776396 -0.445398 -0.265758 -0.293036   \n",
      "Attr52 -0.325360  0.524788 -0.506781 -0.508893 -0.440267 -0.235592 -0.333897   \n",
      "Attr53  0.252389 -0.254348  0.572910  0.392575  0.232488  0.006108  0.261716   \n",
      "Attr54  0.228562 -0.200136  0.571480  0.386171  0.227680 -0.017590  0.237907   \n",
      "Attr55  0.179713 -0.344255  0.398208  0.347795  0.227898  0.358849  0.183450   \n",
      "Attr56  0.530809 -0.243104  0.279739  0.242648  0.147483  0.195522  0.521226   \n",
      "Attr57  0.559920 -0.002741  0.128917  0.078877  0.048755  0.114698  0.558172   \n",
      "Attr58 -0.596924  0.303726 -0.323516 -0.293948 -0.186208 -0.209040 -0.586768   \n",
      "Attr59 -0.185023  0.402707 -0.255830 -0.230100 -0.120348 -0.057176 -0.193315   \n",
      "Attr60  0.105463 -0.055341  0.012709  0.058088  0.165311 -0.075051  0.116076   \n",
      "Attr61  0.050279 -0.046021 -0.116564 -0.044877 -0.075223 -0.009583  0.048862   \n",
      "Attr62 -0.438277  0.544351 -0.557409 -0.513700 -0.432663 -0.281395 -0.440035   \n",
      "Attr63  0.426108 -0.651324  0.597417  0.710690  0.411051  0.199167  0.427928   \n",
      "Attr64  0.143750  0.116337  0.287737  0.086412  0.076187 -0.115653  0.155431   \n",
      "class  -0.068893  0.081511 -0.084069 -0.065726 -0.058085 -0.076939 -0.068076   \n",
      "\n",
      "           Attr8     Attr9    Attr10  ...    Attr56    Attr57    Attr58  \\\n",
      "Attr1   0.322322  0.232516  0.437217  ...  0.530809  0.559920 -0.596924   \n",
      "Attr2  -0.921985  0.109372 -0.971400  ... -0.243104 -0.002741  0.303726   \n",
      "Attr3   0.597363  0.090816  0.683561  ...  0.279739  0.128917 -0.323516   \n",
      "Attr4   0.821090 -0.041007  0.714873  ...  0.242648  0.078877 -0.293948   \n",
      "Attr5   0.440367  0.067417  0.433799  ...  0.147483  0.048755 -0.186208   \n",
      "Attr6   0.229393 -0.164057  0.339977  ...  0.195522  0.114698 -0.209040   \n",
      "Attr7   0.320750  0.238692  0.434861  ...  0.521226  0.558172 -0.586768   \n",
      "Attr8   1.000000 -0.106884  0.850014  ...  0.207023  0.017259 -0.260820   \n",
      "Attr9  -0.106884  1.000000 -0.061241  ...  0.046846  0.198561 -0.038299   \n",
      "Attr10  0.850014 -0.061241  1.000000  ...  0.271920  0.000890 -0.331034   \n",
      "Attr11  0.267961  0.285253  0.365538  ...  0.519311  0.560057 -0.549937   \n",
      "Attr12  0.629435  0.088064  0.560034  ...  0.464200  0.386416 -0.529961   \n",
      "Attr13  0.405703 -0.070801  0.453652  ...  0.589873  0.360524 -0.671366   \n",
      "Attr14  0.320721  0.238654  0.434842  ...  0.521367  0.558304 -0.586672   \n",
      "Attr15 -0.145277  0.026166 -0.097958  ...  0.047218  0.009360 -0.057130   \n",
      "Attr16  0.706559  0.102546  0.602843  ...  0.482388  0.326477 -0.541569   \n",
      "Attr17  0.995902 -0.120366  0.856139  ...  0.203141  0.013195 -0.258239   \n",
      "Attr18  0.320537  0.238455  0.434644  ...  0.521755  0.558656 -0.586154   \n",
      "Attr19  0.407409  0.025111  0.473990  ...  0.539099  0.436100 -0.626471   \n",
      "Attr20 -0.040412 -0.356039 -0.035100  ... -0.013081 -0.159782  0.021113   \n",
      "Attr21  0.021696  0.147737 -0.036344  ...  0.001270  0.090144 -0.008115   \n",
      "Attr22  0.205247  0.230253  0.291643  ...  0.421120  0.516227 -0.446651   \n",
      "Attr23  0.401139  0.036899  0.470928  ...  0.543855  0.439484 -0.631850   \n",
      "Attr24  0.325643  0.164183  0.438582  ...  0.448294  0.439967 -0.491149   \n",
      "Attr25  0.608023 -0.122501  0.762130  ...  0.273668  0.075717 -0.327636   \n",
      "Attr26  0.701703  0.101832  0.598857  ...  0.487469  0.327244 -0.546572   \n",
      "Attr27  0.216732  0.100167  0.167599  ...  0.151070  0.080896 -0.183624   \n",
      "Attr28  0.212374  0.209385  0.236140  ...  0.153680  0.152245 -0.172924   \n",
      "Attr29 -0.048465 -0.494942 -0.014125  ...  0.064411 -0.103834 -0.036863   \n",
      "Attr30 -0.518326 -0.386663 -0.619370  ... -0.234671 -0.141144  0.294110   \n",
      "...          ...       ...       ...  ...       ...       ...       ...   \n",
      "Attr36 -0.177149  0.807823 -0.111832  ... -0.040380  0.200480  0.036000   \n",
      "Attr37  0.372701  0.211126  0.308576  ...  0.048349  0.089070 -0.091282   \n",
      "Attr38  0.733298 -0.188025  0.843981  ...  0.250545 -0.011554 -0.283816   \n",
      "Attr39  0.241697  0.018443  0.313685  ...  0.641602  0.359625 -0.566143   \n",
      "Attr40  0.722255 -0.055803  0.548629  ...  0.167665  0.063856 -0.214755   \n",
      "Attr41 -0.201328 -0.017532 -0.204731  ...  0.135160 -0.081219 -0.101640   \n",
      "Attr42  0.254547 -0.000694  0.322601  ...  0.532423  0.398050 -0.550892   \n",
      "Attr43 -0.014423 -0.478146 -0.067051  ... -0.028923 -0.105998  0.029891   \n",
      "Attr44 -0.013857 -0.353065 -0.060753  ... -0.002645 -0.011440 -0.001896   \n",
      "Attr45  0.205928  0.094120  0.153144  ...  0.115071  0.202457 -0.143494   \n",
      "Attr46  0.789889 -0.023372  0.634366  ...  0.211108  0.100032 -0.261814   \n",
      "Attr47  0.004547 -0.302455  0.008268  ...  0.224197 -0.101376 -0.203540   \n",
      "Attr48  0.191855  0.178659  0.264209  ...  0.338402  0.465678 -0.359691   \n",
      "Attr49  0.163714  0.122545  0.240306  ...  0.382721  0.357692 -0.395781   \n",
      "Attr50  0.877116  0.038870  0.768362  ...  0.234353  0.094821 -0.289826   \n",
      "Attr51 -0.782921  0.233839 -0.809830  ... -0.230043  0.021198  0.268931   \n",
      "Attr52 -0.455440 -0.334623 -0.529546  ...  0.048583 -0.072993  0.010726   \n",
      "Attr53  0.246589  0.226163  0.267098  ...  0.129740  0.128822 -0.148423   \n",
      "Attr54  0.204579  0.218695  0.210331  ...  0.120432  0.130199 -0.136248   \n",
      "Attr55  0.275294 -0.195625  0.316313  ...  0.151419  0.039015 -0.168928   \n",
      "Attr56  0.207023  0.046846  0.271920  ...  1.000000  0.282768 -0.918738   \n",
      "Attr57  0.017259  0.198561  0.000890  ...  0.282768  1.000000 -0.310925   \n",
      "Attr58 -0.260820 -0.038299 -0.331034  ... -0.918738 -0.310925  1.000000   \n",
      "Attr59 -0.344612 -0.147858 -0.400671  ... -0.055184 -0.182900  0.103104   \n",
      "Attr60  0.097838  0.211167  0.040670  ... -0.028610  0.114537  0.017353   \n",
      "Attr61  0.042833  0.335358  0.048071  ... -0.029338  0.011892  0.031922   \n",
      "Attr62 -0.448400 -0.383162 -0.564244  ... -0.251086 -0.131124  0.290094   \n",
      "Attr63  0.653290  0.354315  0.627882  ...  0.202930  0.140472 -0.237803   \n",
      "Attr64 -0.079783  0.460389 -0.112071  ...  0.021553  0.177109 -0.019882   \n",
      "class  -0.060304 -0.005217 -0.088453  ... -0.065666 -0.045284  0.038967   \n",
      "\n",
      "          Attr59    Attr60    Attr61    Attr62    Attr63    Attr64     class  \n",
      "Attr1  -0.185023  0.105463  0.050279 -0.438277  0.426108  0.143750 -0.068893  \n",
      "Attr2   0.402707 -0.055341 -0.046021  0.544351 -0.651324  0.116337  0.081511  \n",
      "Attr3  -0.255830  0.012709 -0.116564 -0.557409  0.597417  0.287737 -0.084069  \n",
      "Attr4  -0.230100  0.058088 -0.044877 -0.513700  0.710690  0.086412 -0.065726  \n",
      "Attr5  -0.120348  0.165311 -0.075223 -0.432663  0.411051  0.076187 -0.058085  \n",
      "Attr6  -0.057176 -0.075051 -0.009583 -0.281395  0.199167 -0.115653 -0.076939  \n",
      "Attr7  -0.193315  0.116076  0.048862 -0.440035  0.427928  0.155431 -0.068076  \n",
      "Attr8  -0.344612  0.097838  0.042833 -0.448400  0.653290 -0.079783 -0.060304  \n",
      "Attr9  -0.147858  0.211167  0.335358 -0.383162  0.354315  0.460389 -0.005217  \n",
      "Attr10 -0.400671  0.040670  0.048071 -0.564244  0.627882 -0.112071 -0.088453  \n",
      "Attr11 -0.166861  0.120234  0.054793 -0.403095  0.395320  0.186112 -0.072970  \n",
      "Attr12 -0.197789  0.136547  0.073155 -0.435291  0.612971  0.046797 -0.071690  \n",
      "Attr13 -0.134767  0.083236 -0.073919 -0.250666  0.253214 -0.037045 -0.077179  \n",
      "Attr14 -0.193140  0.116144  0.048803 -0.440098  0.427856  0.155397 -0.068087  \n",
      "Attr15  0.120587 -0.029254 -0.011825  0.005651 -0.097871  0.009158  0.028286  \n",
      "Attr16 -0.258364  0.132585  0.085070 -0.440100  0.616168  0.057245 -0.078677  \n",
      "Attr17 -0.351027  0.093341  0.042195 -0.456810  0.652778 -0.087367 -0.061061  \n",
      "Attr18 -0.192429  0.116373  0.048575 -0.440210  0.427481  0.155234 -0.068112  \n",
      "Attr19 -0.169399  0.098015 -0.050950 -0.341639  0.321787  0.040191 -0.062593  \n",
      "Attr20  0.047942 -0.764952 -0.100101  0.296946 -0.300678 -0.141815  0.007660  \n",
      "Attr21 -0.029880  0.215308  0.023967  0.054341  0.044564  0.202026  0.030913  \n",
      "Attr22 -0.118440  0.094829  0.065463 -0.360168  0.344698  0.151246 -0.064741  \n",
      "Attr23 -0.163332  0.089437 -0.042399 -0.352733  0.327233  0.039722 -0.061465  \n",
      "Attr24 -0.196315  0.047472  0.048052 -0.422321  0.405537  0.082982 -0.099247  \n",
      "Attr25 -0.271164 -0.053477 -0.009351 -0.480700  0.458967 -0.122992 -0.089539  \n",
      "Attr26 -0.254503  0.125314  0.087847 -0.437623  0.612395  0.049982 -0.079034  \n",
      "Attr27 -0.116416  0.163658  0.062756 -0.096139  0.208837  0.137476  0.201727  \n",
      "Attr28 -0.203048  0.099627 -0.098362 -0.213519  0.259281  0.743652 -0.030397  \n",
      "Attr29  0.159254 -0.300022 -0.211683  0.155231 -0.248960 -0.369906 -0.008630  \n",
      "Attr30  0.405546 -0.081913 -0.259486  0.823411 -0.671664 -0.194065  0.057995  \n",
      "...          ...       ...       ...       ...       ...       ...       ...  \n",
      "Attr36 -0.162666  0.187105  0.406667 -0.472050  0.395997  0.466293  0.022728  \n",
      "Attr37 -0.585196  0.155403 -0.026837 -0.127452  0.229377  0.341436 -0.000463  \n",
      "Attr38 -0.017909  0.033297  0.049454 -0.530258  0.598702 -0.248711 -0.100868  \n",
      "Attr39 -0.048476 -0.003505 -0.034309 -0.298792  0.239260  0.003166 -0.093120  \n",
      "Attr40 -0.195653  0.201751  0.095831 -0.336275  0.562749  0.075596 -0.036543  \n",
      "Attr41  0.158434 -0.061119 -0.046050  0.135835 -0.180475  0.004982  0.001771  \n",
      "Attr42 -0.050905  0.014196 -0.034428 -0.289208  0.237338 -0.011844 -0.076012  \n",
      "Attr43  0.014521 -0.273412 -0.590920  0.541661 -0.441396 -0.057022  0.012149  \n",
      "Attr44 -0.004377  0.059863 -0.829638  0.441500 -0.370461  0.003594  0.002594  \n",
      "Attr45 -0.104885  0.857954 -0.032590 -0.057506  0.169285  0.152911 -0.000106  \n",
      "Attr46 -0.215791  0.226923 -0.100015 -0.435697  0.667888  0.099923 -0.069209  \n",
      "Attr47  0.017244 -0.591440 -0.086566  0.244286 -0.234860 -0.086800 -0.011928  \n",
      "Attr48 -0.096313  0.080252  0.013313 -0.300542  0.287623  0.166579 -0.044441  \n",
      "Attr49 -0.058798  0.004552  0.020839 -0.340103  0.253211  0.074902 -0.045034  \n",
      "Attr50 -0.408666  0.060908 -0.053875 -0.477712  0.644917  0.172662 -0.058648  \n",
      "Attr51  0.048729 -0.051191 -0.056725  0.531877 -0.644915  0.253129  0.088042  \n",
      "Attr52  0.143005 -0.132539 -0.314173  0.881130 -0.761170 -0.079389  0.038934  \n",
      "Attr53 -0.252226  0.150426 -0.070616 -0.175611  0.245738  0.756770 -0.021908  \n",
      "Attr54 -0.184933  0.144248 -0.076472 -0.159170  0.230428  0.769800 -0.020608  \n",
      "Attr55 -0.096259 -0.145245 -0.162007 -0.240557  0.161458 -0.082298 -0.054705  \n",
      "Attr56 -0.055184 -0.028610 -0.029338 -0.251086  0.202930  0.021553 -0.065666  \n",
      "Attr57 -0.182900  0.114537  0.011892 -0.131124  0.140472  0.177109 -0.045284  \n",
      "Attr58  0.103104  0.017353  0.031922  0.290094 -0.237803 -0.019882  0.038967  \n",
      "Attr59  1.000000 -0.070938 -0.009433  0.151780 -0.203667 -0.195943  0.014335  \n",
      "Attr60 -0.070938  1.000000  0.035844 -0.085767  0.191389  0.188989  0.006092  \n",
      "Attr61 -0.009433  0.035844  1.000000 -0.326247  0.370885  0.019095  0.010183  \n",
      "Attr62  0.151780 -0.085767 -0.326247  1.000000 -0.801719 -0.101687  0.071669  \n",
      "Attr63 -0.203667  0.191389  0.370885 -0.801719  1.000000  0.129767 -0.062843  \n",
      "Attr64 -0.195943  0.188989  0.019095 -0.101687  0.129767  1.000000  0.006050  \n",
      "class   0.014335  0.006092  0.010183  0.071669 -0.062843  0.006050  1.000000  \n",
      "\n",
      "[65 rows x 65 columns]\n"
     ]
    }
   ],
   "source": [
    "cor_va = df_skw_co.corr()\n",
    "\n",
    "print(cor_va)"
   ]
  },
  {
   "cell_type": "code",
   "execution_count": 5,
   "metadata": {
    "scrolled": false
   },
   "outputs": [
    {
     "data": {
      "text/plain": [
       "<matplotlib.axes._subplots.AxesSubplot at 0x23f955e63c8>"
      ]
     },
     "execution_count": 5,
     "metadata": {},
     "output_type": "execute_result"
    },
    {
     "data": {
      "image/png": "[encoded data removed]",
      "text/plain": [
       "<Figure size 1440x720 with 2 Axes>"
      ]
     },
     "metadata": {
      "needs_background": "light"
     },
     "output_type": "display_data"
    }
   ],
   "source": [
    "plt.figure(figsize=(20,10))\n",
    "sns.heatmap(cor_va)"
   ]
  },
  {
   "cell_type": "code",
   "execution_count": 6,
   "metadata": {},
   "outputs": [],
   "source": [
    "corr_matrix = df_skw_co.corr().abs()\n",
    "\n",
    "# Select upper triangle of correlation matrix\n",
    "upper = corr_matrix.where(np.triu(np.ones(corr_matrix.shape), k=1).astype(np.bool))\n",
    "\n",
    "# Find index of feature columns with correlation greater than 0.95\n",
    "to_drop = [column for column in upper.columns if any(upper[column] > 0.95)]\n"
   ]
  },
  {
   "cell_type": "code",
   "execution_count": 7,
   "metadata": {},
   "outputs": [
    {
     "data": {
      "text/plain": [
       "['Attr7',\n",
       " 'Attr10',\n",
       " 'Attr11',\n",
       " 'Attr14',\n",
       " 'Attr17',\n",
       " 'Attr18',\n",
       " 'Attr23',\n",
       " 'Attr26',\n",
       " 'Attr31',\n",
       " 'Attr52',\n",
       " 'Attr54']"
      ]
     },
     "execution_count": 7,
     "metadata": {},
     "output_type": "execute_result"
    }
   ],
   "source": [
    "to_drop"
   ]
  },
  {
   "cell_type": "code",
   "execution_count": 8,
   "metadata": {},
   "outputs": [],
   "source": [
    "###droping higly corelated variables\n",
    "\n",
    "df_fi = df_skw_co.drop(df_skw_co[to_drop], axis=1)"
   ]
  },
  {
   "cell_type": "code",
   "execution_count": 9,
   "metadata": {},
   "outputs": [
    {
     "data": {
      "text/plain": [
       "(10083, 54)"
      ]
     },
     "execution_count": 9,
     "metadata": {},
     "output_type": "execute_result"
    }
   ],
   "source": [
    "df_fi.shape"
   ]
  },
  {
   "cell_type": "markdown",
   "metadata": {},
   "source": [
    "# Assigning data features to X ,and Target class to y"
   ]
  },
  {
   "cell_type": "code",
   "execution_count": 10,
   "metadata": {},
   "outputs": [
    {
     "data": {
      "text/plain": [
       "0    9685\n",
       "1     398\n",
       "Name: class, dtype: int64"
      ]
     },
     "execution_count": 10,
     "metadata": {},
     "output_type": "execute_result"
    }
   ],
   "source": [
    "\n",
    "x = df_fi.iloc[:,0:53]\n",
    "\n",
    "x.head()\n",
    "\n",
    "y = df_fi.iloc[:,53]\n",
    "\n",
    "y.value_counts()\n"
   ]
  },
  {
   "cell_type": "code",
   "execution_count": 11,
   "metadata": {},
   "outputs": [
    {
     "data": {
      "text/plain": [
       "(10083, 53)"
      ]
     },
     "execution_count": 11,
     "metadata": {},
     "output_type": "execute_result"
    }
   ],
   "source": [
    "x.shape"
   ]
  },
  {
   "cell_type": "code",
   "execution_count": null,
   "metadata": {},
   "outputs": [],
   "source": []
  },
  {
   "cell_type": "markdown",
   "metadata": {},
   "source": [
    "# Train Test split"
   ]
  },
  {
   "cell_type": "code",
   "execution_count": 14,
   "metadata": {},
   "outputs": [],
   "source": [
    "\n",
    "x_train,x_test,y_train,y_test=train_test_split(x,y,test_size=0.3,random_state = 42)\n"
   ]
  },
  {
   "cell_type": "code",
   "execution_count": 17,
   "metadata": {},
   "outputs": [
    {
     "data": {
      "text/plain": [
       "(7058, 53)"
      ]
     },
     "execution_count": 17,
     "metadata": {},
     "output_type": "execute_result"
    }
   ],
   "source": [
    "x_train.shape"
   ]
  },
  {
   "cell_type": "code",
   "execution_count": 18,
   "metadata": {},
   "outputs": [
    {
     "data": {
      "text/plain": [
       "(3025, 53)"
      ]
     },
     "execution_count": 18,
     "metadata": {},
     "output_type": "execute_result"
    }
   ],
   "source": [
    "x_test.shape"
   ]
  },
  {
   "cell_type": "code",
   "execution_count": 19,
   "metadata": {},
   "outputs": [
    {
     "data": {
      "text/plain": [
       "0    6775\n",
       "1     283\n",
       "Name: class, dtype: int64"
      ]
     },
     "execution_count": 19,
     "metadata": {},
     "output_type": "execute_result"
    }
   ],
   "source": [
    "y_train.value_counts()"
   ]
  },
  {
   "cell_type": "code",
   "execution_count": 20,
   "metadata": {
    "scrolled": true
   },
   "outputs": [
    {
     "name": "stdout",
     "output_type": "stream",
     "text": [
      "label\tcount\n",
      "0    2910\n",
      "1     115\n",
      "Name: class, dtype: int64\n"
     ]
    }
   ],
   "source": [
    "print(\"label\\tcount\")\n",
    "print(y_test.value_counts())"
   ]
  },
  {
   "cell_type": "code",
   "execution_count": 21,
   "metadata": {},
   "outputs": [
    {
     "data": {
      "text/plain": [
       "3025"
      ]
     },
     "execution_count": 21,
     "metadata": {},
     "output_type": "execute_result"
    }
   ],
   "source": [
    "y_test.shape[0]"
   ]
  },
  {
   "cell_type": "markdown",
   "metadata": {},
   "source": [
    "# support Vector machine"
   ]
  },
  {
   "cell_type": "code",
   "execution_count": 22,
   "metadata": {},
   "outputs": [],
   "source": [
    "from sklearn import svm"
   ]
  },
  {
   "cell_type": "code",
   "execution_count": 23,
   "metadata": {},
   "outputs": [],
   "source": [
    "model_svm = svm.SVC(verbose=True,probability=True,gamma='scale',kernel='linear')"
   ]
  },
  {
   "cell_type": "code",
   "execution_count": 24,
   "metadata": {},
   "outputs": [
    {
     "name": "stdout",
     "output_type": "stream",
     "text": [
      "[LibSVM]"
     ]
    },
    {
     "data": {
      "text/plain": [
       "SVC(C=1.0, cache_size=200, class_weight=None, coef0=0.0,\n",
       "  decision_function_shape='ovr', degree=3, gamma='scale', kernel='linear',\n",
       "  max_iter=-1, probability=True, random_state=None, shrinking=True,\n",
       "  tol=0.001, verbose=True)"
      ]
     },
     "execution_count": 24,
     "metadata": {},
     "output_type": "execute_result"
    }
   ],
   "source": [
    "model_svm.fit(x_train,y_train)"
   ]
  },
  {
   "cell_type": "code",
   "execution_count": 25,
   "metadata": {},
   "outputs": [],
   "source": [
    "y_predicted = model_svm.predict(x_test)"
   ]
  },
  {
   "cell_type": "code",
   "execution_count": null,
   "metadata": {},
   "outputs": [],
   "source": []
  },
  {
   "cell_type": "markdown",
   "metadata": {},
   "source": [
    "# Confusion matrix and classification report"
   ]
  },
  {
   "cell_type": "code",
   "execution_count": 26,
   "metadata": {},
   "outputs": [
    {
     "name": "stdout",
     "output_type": "stream",
     "text": [
      "              precision    recall  f1-score   support\n",
      "\n",
      "           0       0.96      1.00      0.98      2910\n",
      "           1       0.00      0.00      0.00       115\n",
      "\n",
      "   micro avg       0.96      0.96      0.96      3025\n",
      "   macro avg       0.48      0.50      0.49      3025\n",
      "weighted avg       0.93      0.96      0.94      3025\n",
      "\n",
      "[[2910    0]\n",
      " [ 115    0]]\n",
      "0.9619834710743802\n"
     ]
    },
    {
     "name": "stderr",
     "output_type": "stream",
     "text": [
      "C:\\Users\\User\\Anaconda3\\lib\\site-packages\\sklearn\\metrics\\classification.py:1143: UndefinedMetricWarning: Precision and F-score are ill-defined and being set to 0.0 in labels with no predicted samples.\n",
      "  'precision', 'predicted', average, warn_for)\n",
      "C:\\Users\\User\\Anaconda3\\lib\\site-packages\\sklearn\\metrics\\classification.py:1143: UndefinedMetricWarning: Precision and F-score are ill-defined and being set to 0.0 in labels with no predicted samples.\n",
      "  'precision', 'predicted', average, warn_for)\n",
      "C:\\Users\\User\\Anaconda3\\lib\\site-packages\\sklearn\\metrics\\classification.py:1143: UndefinedMetricWarning: Precision and F-score are ill-defined and being set to 0.0 in labels with no predicted samples.\n",
      "  'precision', 'predicted', average, warn_for)\n"
     ]
    }
   ],
   "source": [
    "\n",
    "print(classification_report(y_test, y_predicted))\n",
    "\n",
    "cm=confusion_matrix(y_test, y_predicted)\n",
    "print(cm)\n",
    "print(accuracy_score(y_test, y_predicted))\n"
   ]
  },
  {
   "cell_type": "code",
   "execution_count": null,
   "metadata": {},
   "outputs": [],
   "source": []
  },
  {
   "cell_type": "code",
   "execution_count": 27,
   "metadata": {},
   "outputs": [],
   "source": [
    "y_pred=pd.Series(y_predicted)"
   ]
  },
  {
   "cell_type": "markdown",
   "metadata": {},
   "source": [
    "# printing the size of predicted data set and test data"
   ]
  },
  {
   "cell_type": "code",
   "execution_count": 28,
   "metadata": {},
   "outputs": [
    {
     "name": "stdout",
     "output_type": "stream",
     "text": [
      "label\tcount\n",
      "0    3025\n",
      "dtype: int64\n"
     ]
    }
   ],
   "source": [
    "print(\"label\\tcount\")\n",
    "print(y_pred.value_counts())"
   ]
  },
  {
   "cell_type": "code",
   "execution_count": 29,
   "metadata": {},
   "outputs": [
    {
     "name": "stdout",
     "output_type": "stream",
     "text": [
      "label\tcount\n",
      "0    2910\n",
      "1     115\n",
      "Name: class, dtype: int64\n"
     ]
    }
   ],
   "source": [
    "print(\"label\\tcount\")\n",
    "print(y_test.value_counts())"
   ]
  },
  {
   "cell_type": "markdown",
   "metadata": {},
   "source": [
    "# AUC ROC curve"
   ]
  },
  {
   "cell_type": "code",
   "execution_count": 30,
   "metadata": {},
   "outputs": [],
   "source": [
    "import sklearn.metrics as metrics\n",
    "# calculate the fpr and tpr for all thresholds of the classification\n",
    "probs = model_svm.predict_proba(x_test)\n",
    "preds = probs[:,1]\n",
    "fpr, tpr, threshold = metrics.roc_curve(y_test, preds)\n",
    "roc_auc = metrics.auc(fpr, tpr)\n"
   ]
  },
  {
   "cell_type": "code",
   "execution_count": 31,
   "metadata": {},
   "outputs": [
    {
     "data": {
      "image/png": "[encoded data removed]",
      "text/plain": [
       "<Figure size 432x288 with 1 Axes>"
      ]
     },
     "metadata": {
      "needs_background": "light"
     },
     "output_type": "display_data"
    }
   ],
   "source": [
    "# method I: plt\n",
    "import matplotlib.pyplot as plt\n",
    "plt.title('Receiver Operating Characteristic')\n",
    "plt.plot(fpr, tpr, 'b', label = 'AUC = %0.2f' % roc_auc)\n",
    "plt.legend(loc = 'lower right')\n",
    "plt.plot([0, 1], [0, 1],'r--')\n",
    "plt.xlim([0, 1])\n",
    "plt.ylim([0, 1])\n",
    "plt.ylabel('True Positive Rate')\n",
    "plt.xlabel('False Positive Rate')\n",
    "plt.show()\n"
   ]
  },
  {
   "cell_type": "code",
   "execution_count": 32,
   "metadata": {},
   "outputs": [
    {
     "name": "stdout",
     "output_type": "stream",
     "text": [
      "roc score =  0.5053578365456447\n"
     ]
    }
   ],
   "source": [
    "print(\"roc score = \",roc_auc)"
   ]
  },
  {
   "cell_type": "code",
   "execution_count": 33,
   "metadata": {},
   "outputs": [],
   "source": [
    "gini = (2*roc_auc)-1"
   ]
  },
  {
   "cell_type": "code",
   "execution_count": 34,
   "metadata": {},
   "outputs": [
    {
     "name": "stdout",
     "output_type": "stream",
     "text": [
      "Gini score =  0.010715673091289402\n"
     ]
    }
   ],
   "source": [
    "print(\"Gini score = \",gini)"
   ]
  },
  {
   "cell_type": "code",
   "execution_count": null,
   "metadata": {},
   "outputs": [],
   "source": []
  },
  {
   "cell_type": "code",
   "execution_count": 35,
   "metadata": {},
   "outputs": [
    {
     "data": {
      "text/plain": [
       "0.0"
      ]
     },
     "execution_count": 35,
     "metadata": {},
     "output_type": "execute_result"
    }
   ],
   "source": [
    "from sklearn.metrics import cohen_kappa_score\n",
    "cohen_kappa_score(y_test,y_predicted)"
   ]
  },
  {
   "cell_type": "code",
   "execution_count": 36,
   "metadata": {},
   "outputs": [],
   "source": [
    "confi_lvl = model_svm.predict_proba(x)"
   ]
  },
  {
   "cell_type": "code",
   "execution_count": 37,
   "metadata": {},
   "outputs": [
    {
     "data": {
      "text/plain": [
       "array([[<matplotlib.axes._subplots.AxesSubplot object at 0x0000023F957C8278>,\n",
       "        <matplotlib.axes._subplots.AxesSubplot object at 0x0000023F983AC780>]],\n",
       "      dtype=object)"
      ]
     },
     "execution_count": 37,
     "metadata": {},
     "output_type": "execute_result"
    },
    {
     "data": {
      "image/png": "[encoded data removed]",
      "text/plain": [
       "<Figure size 432x288 with 2 Axes>"
      ]
     },
     "metadata": {
      "needs_background": "light"
     },
     "output_type": "display_data"
    }
   ],
   "source": [
    "confi_lvl = pd.DataFrame(confi_lvl)\n",
    "confi_lvl.hist()"
   ]
  },
  {
   "cell_type": "code",
   "execution_count": null,
   "metadata": {},
   "outputs": [],
   "source": []
  },
  {
   "cell_type": "code",
   "execution_count": 38,
   "metadata": {},
   "outputs": [],
   "source": [
    "feature_importance = abs(model_svm.coef_[0])\n",
    "feature_importance = 100.0 * (feature_importance / feature_importance.max())\n",
    "sorted_idx = np.argsort(feature_importance)\n",
    "pos = np.arange(sorted_idx.shape[0]) + .5"
   ]
  },
  {
   "cell_type": "code",
   "execution_count": 39,
   "metadata": {},
   "outputs": [
    {
     "data": {
      "image/png": "[encoded data removed]",
      "text/plain": [
       "<Figure size 720x1440 with 1 Axes>"
      ]
     },
     "metadata": {
      "needs_background": "light"
     },
     "output_type": "display_data"
    }
   ],
   "source": [
    "featfig = plt.figure(figsize=(10,20))\n",
    "featax = featfig.add_subplot(1, 1, 1)\n",
    "featax.barh(pos, feature_importance[sorted_idx], align='center')\n",
    "featax.set_yticks(pos)\n",
    "featax.set_yticklabels(np.array(x.columns)[sorted_idx], fontsize=8)\n",
    "featax.set_xlabel('Relative Feature Importance')\n",
    "\n",
    "plt.tight_layout()   \n",
    "plt.show()"
   ]
  }
 ],
 "metadata": {
  "kernelspec": {
   "display_name": "Python 3",
   "language": "python",
   "name": "python3"
  },
  "language_info": {
   "codemirror_mode": {
    "name": "ipython",
    "version": 3
   },
   "file_extension": ".py",
   "mimetype": "text/x-python",
   "name": "python",
   "nbconvert_exporter": "python",
   "pygments_lexer": "ipython3",
   "version": "3.7.3"
  },
  "toc": {
   "base_numbering": 1,
   "nav_menu": {},
   "number_sections": true,
   "sideBar": true,
   "skip_h1_title": false,
   "title_cell": "Table of Contents",
   "title_sidebar": "Contents",
   "toc_cell": false,
   "toc_position": {},
   "toc_section_display": true,
   "toc_window_display": false
  },
  "varInspector": {
   "cols": {
    "lenName": 16,
    "lenType": 16,
    "lenVar": 40
   },
   "kernels_config": {
    "python": {
     "delete_cmd_postfix": "",
     "delete_cmd_prefix": "del ",
     "library": "var_list.py",
     "varRefreshCmd": "print(var_dic_list())"
    },
    "r": {
     "delete_cmd_postfix": ") ",
     "delete_cmd_prefix": "rm(",
     "library": "var_list.r",
     "varRefreshCmd": "cat(var_dic_list()) "
    }
   },
   "types_to_exclude": [
    "module",
    "function",
    "builtin_function_or_method",
    "instance",
    "_Feature"
   ],
   "window_display": false
  }
 },
 "nbformat": 4,
 "nbformat_minor": 2
}
