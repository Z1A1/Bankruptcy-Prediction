{
 "cells": [
  {
   "cell_type": "markdown",
   "metadata": {},
   "source": [
    "# Importing necessary packages"
   ]
  },
  {
   "cell_type": "code",
   "execution_count": 1,
   "metadata": {},
   "outputs": [],
   "source": [
    "import numpy as np\n",
    "import pandas as pd \n",
    "import matplotlib.pyplot as plt\n",
    "import seaborn as sns\n",
    "from sklearn.model_selection import train_test_split\n",
    "from sklearn.metrics import confusion_matrix,accuracy_score,classification_report"
   ]
  },
  {
   "cell_type": "markdown",
   "metadata": {},
   "source": [
    "# Loading data set"
   ]
  },
  {
   "cell_type": "code",
   "execution_count": 2,
   "metadata": {},
   "outputs": [],
   "source": [
    "df_fi = pd.read_csv(r\"C:\\Users\\User\\BankCurupt\\Bank_dcf.csv\",sep = ',')"
   ]
  },
  {
   "cell_type": "code",
   "execution_count": 3,
   "metadata": {},
   "outputs": [
    {
     "data": {
      "text/html": [
       "<div>\n",
       "<style scoped>\n",
       "    .dataframe tbody tr th:only-of-type {\n",
       "        vertical-align: middle;\n",
       "    }\n",
       "\n",
       "    .dataframe tbody tr th {\n",
       "        vertical-align: top;\n",
       "    }\n",
       "\n",
       "    .dataframe thead th {\n",
       "        text-align: right;\n",
       "    }\n",
       "</style>\n",
       "<table border=\"1\" class=\"dataframe\">\n",
       "  <thead>\n",
       "    <tr style=\"text-align: right;\">\n",
       "      <th></th>\n",
       "      <th>Attr1</th>\n",
       "      <th>Attr2</th>\n",
       "      <th>Attr3</th>\n",
       "      <th>Attr4</th>\n",
       "      <th>Attr5</th>\n",
       "      <th>Attr6</th>\n",
       "      <th>Attr8</th>\n",
       "      <th>Attr9</th>\n",
       "      <th>Attr12</th>\n",
       "      <th>Attr13</th>\n",
       "      <th>...</th>\n",
       "      <th>Attr56</th>\n",
       "      <th>Attr57</th>\n",
       "      <th>Attr58</th>\n",
       "      <th>Attr59</th>\n",
       "      <th>Attr60</th>\n",
       "      <th>Attr61</th>\n",
       "      <th>Attr62</th>\n",
       "      <th>Attr63</th>\n",
       "      <th>Attr64</th>\n",
       "      <th>class</th>\n",
       "    </tr>\n",
       "  </thead>\n",
       "  <tbody>\n",
       "    <tr>\n",
       "      <th>0</th>\n",
       "      <td>0.834118</td>\n",
       "      <td>0.031094</td>\n",
       "      <td>0.978440</td>\n",
       "      <td>0.017617</td>\n",
       "      <td>0.741344</td>\n",
       "      <td>0.875099</td>\n",
       "      <td>0.011637</td>\n",
       "      <td>0.013458</td>\n",
       "      <td>0.455331</td>\n",
       "      <td>0.353164</td>\n",
       "      <td>...</td>\n",
       "      <td>0.995314</td>\n",
       "      <td>0.756469</td>\n",
       "      <td>0.009528</td>\n",
       "      <td>0.088799</td>\n",
       "      <td>0.003655</td>\n",
       "      <td>0.013877</td>\n",
       "      <td>0.016297</td>\n",
       "      <td>0.012654</td>\n",
       "      <td>0.277543</td>\n",
       "      <td>0</td>\n",
       "    </tr>\n",
       "    <tr>\n",
       "      <th>1</th>\n",
       "      <td>0.830318</td>\n",
       "      <td>0.035191</td>\n",
       "      <td>0.978221</td>\n",
       "      <td>0.016544</td>\n",
       "      <td>0.741265</td>\n",
       "      <td>0.873559</td>\n",
       "      <td>0.011069</td>\n",
       "      <td>0.011092</td>\n",
       "      <td>0.455096</td>\n",
       "      <td>0.353159</td>\n",
       "      <td>...</td>\n",
       "      <td>0.995311</td>\n",
       "      <td>0.755852</td>\n",
       "      <td>0.009532</td>\n",
       "      <td>0.088799</td>\n",
       "      <td>0.002015</td>\n",
       "      <td>0.009195</td>\n",
       "      <td>0.017675</td>\n",
       "      <td>0.008230</td>\n",
       "      <td>0.277490</td>\n",
       "      <td>0</td>\n",
       "    </tr>\n",
       "    <tr>\n",
       "      <th>2</th>\n",
       "      <td>0.835345</td>\n",
       "      <td>0.024954</td>\n",
       "      <td>0.980172</td>\n",
       "      <td>0.025679</td>\n",
       "      <td>0.741636</td>\n",
       "      <td>0.873560</td>\n",
       "      <td>0.014547</td>\n",
       "      <td>0.015327</td>\n",
       "      <td>0.455589</td>\n",
       "      <td>0.353166</td>\n",
       "      <td>...</td>\n",
       "      <td>0.995322</td>\n",
       "      <td>0.756308</td>\n",
       "      <td>0.009482</td>\n",
       "      <td>0.088799</td>\n",
       "      <td>0.002602</td>\n",
       "      <td>0.010925</td>\n",
       "      <td>0.015979</td>\n",
       "      <td>0.015947</td>\n",
       "      <td>0.278090</td>\n",
       "      <td>0</td>\n",
       "    </tr>\n",
       "    <tr>\n",
       "      <th>3</th>\n",
       "      <td>0.834666</td>\n",
       "      <td>0.037560</td>\n",
       "      <td>0.977635</td>\n",
       "      <td>0.014879</td>\n",
       "      <td>0.741095</td>\n",
       "      <td>0.873560</td>\n",
       "      <td>0.010558</td>\n",
       "      <td>0.014099</td>\n",
       "      <td>0.455333</td>\n",
       "      <td>0.353170</td>\n",
       "      <td>...</td>\n",
       "      <td>0.995352</td>\n",
       "      <td>0.756829</td>\n",
       "      <td>0.009456</td>\n",
       "      <td>0.088912</td>\n",
       "      <td>0.002859</td>\n",
       "      <td>0.013745</td>\n",
       "      <td>0.016553</td>\n",
       "      <td>0.011177</td>\n",
       "      <td>0.277513</td>\n",
       "      <td>0</td>\n",
       "    </tr>\n",
       "    <tr>\n",
       "      <th>4</th>\n",
       "      <td>0.831538</td>\n",
       "      <td>0.028123</td>\n",
       "      <td>0.978924</td>\n",
       "      <td>0.019947</td>\n",
       "      <td>0.741467</td>\n",
       "      <td>0.874206</td>\n",
       "      <td>0.012643</td>\n",
       "      <td>0.013307</td>\n",
       "      <td>0.455200</td>\n",
       "      <td>0.353152</td>\n",
       "      <td>...</td>\n",
       "      <td>0.995307</td>\n",
       "      <td>0.755990</td>\n",
       "      <td>0.009555</td>\n",
       "      <td>0.088799</td>\n",
       "      <td>0.002985</td>\n",
       "      <td>0.012217</td>\n",
       "      <td>0.016158</td>\n",
       "      <td>0.013799</td>\n",
       "      <td>0.277552</td>\n",
       "      <td>0</td>\n",
       "    </tr>\n",
       "  </tbody>\n",
       "</table>\n",
       "<p>5 rows × 54 columns</p>\n",
       "</div>"
      ],
      "text/plain": [
       "      Attr1     Attr2     Attr3     Attr4     Attr5     Attr6     Attr8  \\\n",
       "0  0.834118  0.031094  0.978440  0.017617  0.741344  0.875099  0.011637   \n",
       "1  0.830318  0.035191  0.978221  0.016544  0.741265  0.873559  0.011069   \n",
       "2  0.835345  0.024954  0.980172  0.025679  0.741636  0.873560  0.014547   \n",
       "3  0.834666  0.037560  0.977635  0.014879  0.741095  0.873560  0.010558   \n",
       "4  0.831538  0.028123  0.978924  0.019947  0.741467  0.874206  0.012643   \n",
       "\n",
       "      Attr9    Attr12    Attr13  ...    Attr56    Attr57    Attr58    Attr59  \\\n",
       "0  0.013458  0.455331  0.353164  ...  0.995314  0.756469  0.009528  0.088799   \n",
       "1  0.011092  0.455096  0.353159  ...  0.995311  0.755852  0.009532  0.088799   \n",
       "2  0.015327  0.455589  0.353166  ...  0.995322  0.756308  0.009482  0.088799   \n",
       "3  0.014099  0.455333  0.353170  ...  0.995352  0.756829  0.009456  0.088912   \n",
       "4  0.013307  0.455200  0.353152  ...  0.995307  0.755990  0.009555  0.088799   \n",
       "\n",
       "     Attr60    Attr61    Attr62    Attr63    Attr64  class  \n",
       "0  0.003655  0.013877  0.016297  0.012654  0.277543      0  \n",
       "1  0.002015  0.009195  0.017675  0.008230  0.277490      0  \n",
       "2  0.002602  0.010925  0.015979  0.015947  0.278090      0  \n",
       "3  0.002859  0.013745  0.016553  0.011177  0.277513      0  \n",
       "4  0.002985  0.012217  0.016158  0.013799  0.277552      0  \n",
       "\n",
       "[5 rows x 54 columns]"
      ]
     },
     "execution_count": 3,
     "metadata": {},
     "output_type": "execute_result"
    }
   ],
   "source": [
    "df_fi.head()"
   ]
  },
  {
   "cell_type": "code",
   "execution_count": 4,
   "metadata": {},
   "outputs": [
    {
     "data": {
      "text/plain": [
       "(10083, 54)"
      ]
     },
     "execution_count": 4,
     "metadata": {},
     "output_type": "execute_result"
    }
   ],
   "source": [
    "df_fi.shape"
   ]
  },
  {
   "cell_type": "code",
   "execution_count": null,
   "metadata": {},
   "outputs": [],
   "source": []
  },
  {
   "cell_type": "markdown",
   "metadata": {},
   "source": [
    "# Assigning data features to X ,and Target class to y"
   ]
  },
  {
   "cell_type": "code",
   "execution_count": 5,
   "metadata": {
    "scrolled": true
   },
   "outputs": [
    {
     "data": {
      "text/plain": [
       "0    9685\n",
       "1     398\n",
       "Name: class, dtype: int64"
      ]
     },
     "execution_count": 5,
     "metadata": {},
     "output_type": "execute_result"
    }
   ],
   "source": [
    "\n",
    "x = df_fi.iloc[:,0:53]\n",
    "\n",
    "x.head()\n",
    "\n",
    "y = df_fi.iloc[:,53]\n",
    "\n",
    "y.value_counts()\n"
   ]
  },
  {
   "cell_type": "code",
   "execution_count": 6,
   "metadata": {},
   "outputs": [
    {
     "data": {
      "text/plain": [
       "(10083, 53)"
      ]
     },
     "execution_count": 6,
     "metadata": {},
     "output_type": "execute_result"
    }
   ],
   "source": [
    "x.shape"
   ]
  },
  {
   "cell_type": "markdown",
   "metadata": {},
   "source": [
    "# SMOTE"
   ]
  },
  {
   "cell_type": "code",
   "execution_count": 7,
   "metadata": {},
   "outputs": [],
   "source": [
    "from imblearn.over_sampling import SMOTE"
   ]
  },
  {
   "cell_type": "code",
   "execution_count": 8,
   "metadata": {},
   "outputs": [],
   "source": [
    "sm = SMOTE(random_state=2,sampling_strategy=0.5)\n",
    "x_smt,y_smt = sm.fit_sample(x,y.ravel())"
   ]
  },
  {
   "cell_type": "code",
   "execution_count": 9,
   "metadata": {},
   "outputs": [
    {
     "name": "stdout",
     "output_type": "stream",
     "text": [
      "After OverSampling, counts of label '1': 4842 \n",
      "After OverSampling, counts of label '0': 9685\n"
     ]
    }
   ],
   "source": [
    "print(\"After OverSampling, counts of label '1': {} \".format(y_smt[y_smt==1].shape[0]))\n",
    "print(\"After OverSampling, counts of label '0': {}\".format(y_smt[y_smt==0].shape[0]))"
   ]
  },
  {
   "cell_type": "markdown",
   "metadata": {},
   "source": [
    "# Train Test split"
   ]
  },
  {
   "cell_type": "code",
   "execution_count": 10,
   "metadata": {},
   "outputs": [],
   "source": [
    "\n",
    "x_train,x_test,y_train,y_test=train_test_split(x_smt,y_smt,test_size=0.3,random_state = 42)\n"
   ]
  },
  {
   "cell_type": "code",
   "execution_count": 11,
   "metadata": {},
   "outputs": [
    {
     "data": {
      "text/plain": [
       "(10168, 53)"
      ]
     },
     "execution_count": 11,
     "metadata": {},
     "output_type": "execute_result"
    }
   ],
   "source": [
    "x_train.shape"
   ]
  },
  {
   "cell_type": "code",
   "execution_count": 12,
   "metadata": {},
   "outputs": [
    {
     "data": {
      "text/plain": [
       "(4359, 53)"
      ]
     },
     "execution_count": 12,
     "metadata": {},
     "output_type": "execute_result"
    }
   ],
   "source": [
    "x_test.shape"
   ]
  },
  {
   "cell_type": "code",
   "execution_count": 13,
   "metadata": {
    "scrolled": true
   },
   "outputs": [
    {
     "name": "stdout",
     "output_type": "stream",
     "text": [
      "After spliting, counts of label '1' in TRAIN data: 3405 \n",
      "After spliting, counts of label '0' in TRAIN data: 6763\n"
     ]
    }
   ],
   "source": [
    "print(\"After spliting, counts of label '1' in TRAIN data: {} \".format(y_train[y_train==1].shape[0]))\n",
    "print(\"After spliting, counts of label '0' in TRAIN data: {}\".format(y_train[y_train==0].shape[0]))"
   ]
  },
  {
   "cell_type": "code",
   "execution_count": 14,
   "metadata": {},
   "outputs": [
    {
     "name": "stdout",
     "output_type": "stream",
     "text": [
      "After spliting, counts of label '1' in test data: 1437 \n",
      "After spliting, counts of label '0' in test data: 2922\n"
     ]
    }
   ],
   "source": [
    "print(\"After spliting, counts of label '1' in test data: {} \".format(y_test[y_test==1].shape[0]))\n",
    "print(\"After spliting, counts of label '0' in test data: {}\".format(y_test[y_test==0].shape[0]))"
   ]
  },
  {
   "cell_type": "markdown",
   "metadata": {},
   "source": [
    "# support Vector machine with hyper parameters"
   ]
  },
  {
   "cell_type": "code",
   "execution_count": 26,
   "metadata": {},
   "outputs": [],
   "source": [
    "from sklearn import svm\n",
    "from sklearn.model_selection import RandomizedSearchCV\n",
    "from sklearn.model_selection import GridSearchCV"
   ]
  },
  {
   "cell_type": "code",
   "execution_count": 31,
   "metadata": {},
   "outputs": [],
   "source": [
    "# kernal parameter\n",
    "kernels = ['linear', 'rbf', 'poly']\n",
    "#gamma parametr\n",
    "gamma = [0.1, 1, 10, 100]\n",
    "#c pameter \n",
    "cs = [0.1, 1, 10, 100]\n",
    "\n",
    "param = {\n",
    "         'gamma':gamma,\n",
    "         'C':cs\n",
    "        }"
   ]
  },
  {
   "cell_type": "code",
   "execution_count": 22,
   "metadata": {},
   "outputs": [
    {
     "data": {
      "text/plain": [
       "{'gammaa': [0.1, 1, 10, 100], 'C': [0.1, 1, 10, 100]}"
      ]
     },
     "execution_count": 22,
     "metadata": {},
     "output_type": "execute_result"
    }
   ],
   "source": [
    "param"
   ]
  },
  {
   "cell_type": "code",
   "execution_count": 28,
   "metadata": {},
   "outputs": [],
   "source": [
    "model_svm = svm.SVC(kernel = 'rbf')"
   ]
  },
  {
   "cell_type": "code",
   "execution_count": 34,
   "metadata": {},
   "outputs": [],
   "source": [
    "grid_search = GridSearchCV(model_svm ,param, cv=5,verbose=2,n_jobs=-1)"
   ]
  },
  {
   "cell_type": "code",
   "execution_count": 35,
   "metadata": {},
   "outputs": [
    {
     "name": "stdout",
     "output_type": "stream",
     "text": [
      "Fitting 5 folds for each of 16 candidates, totalling 80 fits\n"
     ]
    },
    {
     "name": "stderr",
     "output_type": "stream",
     "text": [
      "[Parallel(n_jobs=-1)]: Using backend LokyBackend with 4 concurrent workers.\n",
      "[Parallel(n_jobs=-1)]: Done  33 tasks      | elapsed:  4.1min\n",
      "[Parallel(n_jobs=-1)]: Done  80 out of  80 | elapsed:  9.3min finished\n"
     ]
    },
    {
     "data": {
      "text/plain": [
       "GridSearchCV(cv=5, error_score='raise-deprecating',\n",
       "       estimator=SVC(C=1.0, cache_size=200, class_weight=None, coef0=0.0,\n",
       "  decision_function_shape='ovr', degree=3, gamma='auto_deprecated',\n",
       "  kernel='rbf', max_iter=-1, probability=False, random_state=None,\n",
       "  shrinking=True, tol=0.001, verbose=False),\n",
       "       fit_params=None, iid='warn', n_jobs=-1,\n",
       "       param_grid={'gamma': [0.1, 1, 10, 100], 'C': [0.1, 1, 10, 100]},\n",
       "       pre_dispatch='2*n_jobs', refit=True, return_train_score='warn',\n",
       "       scoring=None, verbose=2)"
      ]
     },
     "execution_count": 35,
     "metadata": {},
     "output_type": "execute_result"
    }
   ],
   "source": [
    "grid_search.fit(x_train, y_train)b"
   ]
  },
  {
   "cell_type": "code",
   "execution_count": 37,
   "metadata": {},
   "outputs": [
    {
     "data": {
      "text/plain": [
       "<bound method BaseEstimator.get_params of GridSearchCV(cv=5, error_score='raise-deprecating',\n",
       "       estimator=SVC(C=1.0, cache_size=200, class_weight=None, coef0=0.0,\n",
       "  decision_function_shape='ovr', degree=3, gamma='auto_deprecated',\n",
       "  kernel='rbf', max_iter=-1, probability=False, random_state=None,\n",
       "  shrinking=True, tol=0.001, verbose=False),\n",
       "       fit_params=None, iid='warn', n_jobs=-1,\n",
       "       param_grid={'gamma': [0.1, 1, 10, 100], 'C': [0.1, 1, 10, 100]},\n",
       "       pre_dispatch='2*n_jobs', refit=True, return_train_score='warn',\n",
       "       scoring=None, verbose=2)>"
      ]
     },
     "execution_count": 37,
     "metadata": {},
     "output_type": "execute_result"
    }
   ],
   "source": [
    "grid_search.get_params"
   ]
  },
  {
   "cell_type": "code",
   "execution_count": 39,
   "metadata": {},
   "outputs": [
    {
     "data": {
      "text/plain": [
       "{'C': 100, 'gamma': 100}"
      ]
     },
     "execution_count": 39,
     "metadata": {},
     "output_type": "execute_result"
    }
   ],
   "source": [
    "grid_search.best_params_"
   ]
  },
  {
   "cell_type": "code",
   "execution_count": 40,
   "metadata": {},
   "outputs": [],
   "source": [
    "model_svm = svm.SVC(kernel = 'rbf',C=100,gamma = 100,probability=True)"
   ]
  },
  {
   "cell_type": "code",
   "execution_count": 41,
   "metadata": {},
   "outputs": [
    {
     "data": {
      "text/plain": [
       "SVC(C=100, cache_size=200, class_weight=None, coef0=0.0,\n",
       "  decision_function_shape='ovr', degree=3, gamma=100, kernel='rbf',\n",
       "  max_iter=-1, probability=True, random_state=None, shrinking=True,\n",
       "  tol=0.001, verbose=False)"
      ]
     },
     "execution_count": 41,
     "metadata": {},
     "output_type": "execute_result"
    }
   ],
   "source": [
    "model_svm.fit(x_train,y_train)"
   ]
  },
  {
   "cell_type": "code",
   "execution_count": 43,
   "metadata": {},
   "outputs": [],
   "source": [
    "y_predicted = model_svm.predict(x_test)"
   ]
  },
  {
   "cell_type": "markdown",
   "metadata": {},
   "source": [
    "# Confusion matrix and classification report"
   ]
  },
  {
   "cell_type": "code",
   "execution_count": 44,
   "metadata": {},
   "outputs": [
    {
     "name": "stdout",
     "output_type": "stream",
     "text": [
      "              precision    recall  f1-score   support\n",
      "\n",
      "           0       0.91      0.96      0.93      2922\n",
      "           1       0.91      0.80      0.85      1437\n",
      "\n",
      "   micro avg       0.91      0.91      0.91      4359\n",
      "   macro avg       0.91      0.88      0.89      4359\n",
      "weighted avg       0.91      0.91      0.90      4359\n",
      "\n",
      "[[2803  119]\n",
      " [ 293 1144]]\n",
      "0.9054829089240651\n"
     ]
    }
   ],
   "source": [
    "\n",
    "print(classification_report(y_test, y_predicted))\n",
    "\n",
    "cm=confusion_matrix(y_test, y_predicted)\n",
    "print(cm)\n",
    "print(accuracy_score(y_test, y_predicted))\n"
   ]
  },
  {
   "cell_type": "code",
   "execution_count": null,
   "metadata": {},
   "outputs": [],
   "source": []
  },
  {
   "cell_type": "code",
   "execution_count": 45,
   "metadata": {},
   "outputs": [],
   "source": [
    "y_pred=pd.Series(y_predicted)\n",
    "y_test = pd.Series(y_test)"
   ]
  },
  {
   "cell_type": "markdown",
   "metadata": {},
   "source": [
    "# printing the size of predicted data set and test data"
   ]
  },
  {
   "cell_type": "code",
   "execution_count": 46,
   "metadata": {},
   "outputs": [
    {
     "name": "stdout",
     "output_type": "stream",
     "text": [
      "label\tcount\n",
      "0    3096\n",
      "1    1263\n",
      "dtype: int64\n"
     ]
    }
   ],
   "source": [
    "print(\"label\\tcount\")\n",
    "print(y_pred.value_counts())"
   ]
  },
  {
   "cell_type": "code",
   "execution_count": 47,
   "metadata": {},
   "outputs": [
    {
     "name": "stdout",
     "output_type": "stream",
     "text": [
      "label\tcount\n",
      "0    2922\n",
      "1    1437\n",
      "dtype: int64\n"
     ]
    }
   ],
   "source": [
    "print(\"label\\tcount\")\n",
    "print(y_test.value_counts())"
   ]
  },
  {
   "cell_type": "markdown",
   "metadata": {},
   "source": [
    "# AUC ROC curve"
   ]
  },
  {
   "cell_type": "code",
   "execution_count": 48,
   "metadata": {},
   "outputs": [],
   "source": [
    "import sklearn.metrics as metrics\n",
    "# calculate the fpr and tpr for all thresholds of the classification\n",
    "probs = model_svm.predict_proba(x_test)\n",
    "preds = probs[:,1]\n",
    "fpr, tpr, threshold = metrics.roc_curve(y_test, preds)\n",
    "roc_auc = metrics.auc(fpr, tpr)\n"
   ]
  },
  {
   "cell_type": "code",
   "execution_count": 49,
   "metadata": {},
   "outputs": [
    {
     "data": {
      "image/png": "[encoded data removed]",
      "text/plain": [
       "<Figure size 432x288 with 1 Axes>"
      ]
     },
     "metadata": {
      "needs_background": "light"
     },
     "output_type": "display_data"
    }
   ],
   "source": [
    "# method I: plt\n",
    "import matplotlib.pyplot as plt\n",
    "plt.title('Receiver Operating Characteristic')\n",
    "plt.plot(fpr, tpr, 'b', label = 'AUC = %0.2f' % roc_auc)\n",
    "plt.legend(loc = 'lower right')\n",
    "plt.plot([0, 1], [0, 1],'r--')\n",
    "plt.xlim([0, 1])\n",
    "plt.ylim([0, 1])\n",
    "plt.ylabel('True Positive Rate')\n",
    "plt.xlabel('False Positive Rate')\n",
    "plt.show()\n"
   ]
  },
  {
   "cell_type": "code",
   "execution_count": 50,
   "metadata": {},
   "outputs": [
    {
     "name": "stdout",
     "output_type": "stream",
     "text": [
      "roc score =  0.963812666799082\n"
     ]
    }
   ],
   "source": [
    "print(\"roc score = \",roc_auc)"
   ]
  },
  {
   "cell_type": "code",
   "execution_count": 51,
   "metadata": {},
   "outputs": [],
   "source": [
    "gini = (2*roc_auc)-1"
   ]
  },
  {
   "cell_type": "code",
   "execution_count": 52,
   "metadata": {},
   "outputs": [
    {
     "name": "stdout",
     "output_type": "stream",
     "text": [
      "Gini score =  0.9276253335981639\n"
     ]
    }
   ],
   "source": [
    "print(\"Gini score = \",gini)"
   ]
  },
  {
   "cell_type": "code",
   "execution_count": null,
   "metadata": {},
   "outputs": [],
   "source": []
  },
  {
   "cell_type": "code",
   "execution_count": 53,
   "metadata": {},
   "outputs": [
    {
     "data": {
      "text/plain": [
       "0.7793572480065577"
      ]
     },
     "execution_count": 53,
     "metadata": {},
     "output_type": "execute_result"
    }
   ],
   "source": [
    "from sklearn.metrics import cohen_kappa_score\n",
    "cohen_kappa_score(y_test,y_predicted)"
   ]
  },
  {
   "cell_type": "code",
   "execution_count": 54,
   "metadata": {},
   "outputs": [],
   "source": [
    "confi_lvl = model_svm.predict_proba(x)"
   ]
  },
  {
   "cell_type": "code",
   "execution_count": 55,
   "metadata": {},
   "outputs": [
    {
     "data": {
      "text/plain": [
       "array([[<matplotlib.axes._subplots.AxesSubplot object at 0x000001C2890D9CC0>,\n",
       "        <matplotlib.axes._subplots.AxesSubplot object at 0x000001C2890A1710>]],\n",
       "      dtype=object)"
      ]
     },
     "execution_count": 55,
     "metadata": {},
     "output_type": "execute_result"
    },
    {
     "data": {
      "image/png": "[encoded data removed]",
      "text/plain": [
       "<Figure size 432x288 with 2 Axes>"
      ]
     },
     "metadata": {
      "needs_background": "light"
     },
     "output_type": "display_data"
    }
   ],
   "source": [
    "confi_lvl = pd.DataFrame(confi_lvl)\n",
    "confi_lvl.hist()"
   ]
  },
  {
   "cell_type": "code",
   "execution_count": 63,
   "metadata": {},
   "outputs": [],
   "source": [
    "## in svm with non linear kernal we cant find feature importancce "
   ]
  }
 ],
 "metadata": {
  "kernelspec": {
   "display_name": "Python 3",
   "language": "python",
   "name": "python3"
  },
  "language_info": {
   "codemirror_mode": {
    "name": "ipython",
    "version": 3
   },
   "file_extension": ".py",
   "mimetype": "text/x-python",
   "name": "python",
   "nbconvert_exporter": "python",
   "pygments_lexer": "ipython3",
   "version": "3.7.3"
  },
  "toc": {
   "base_numbering": 1,
   "nav_menu": {},
   "number_sections": true,
   "sideBar": true,
   "skip_h1_title": false,
   "title_cell": "Table of Contents",
   "title_sidebar": "Contents",
   "toc_cell": false,
   "toc_position": {},
   "toc_section_display": true,
   "toc_window_display": false
  },
  "varInspector": {
   "cols": {
    "lenName": 16,
    "lenType": 16,
    "lenVar": 40
   },
   "kernels_config": {
    "python": {
     "delete_cmd_postfix": "",
     "delete_cmd_prefix": "del ",
     "library": "var_list.py",
     "varRefreshCmd": "print(var_dic_list())"
    },
    "r": {
     "delete_cmd_postfix": ") ",
     "delete_cmd_prefix": "rm(",
     "library": "var_list.r",
     "varRefreshCmd": "cat(var_dic_list()) "
    }
   },
   "types_to_exclude": [
    "module",
    "function",
    "builtin_function_or_method",
    "instance",
    "_Feature"
   ],
   "window_display": false
  }
 },
 "nbformat": 4,
 "nbformat_minor": 2
}
