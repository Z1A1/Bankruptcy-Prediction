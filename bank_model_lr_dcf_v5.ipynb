{
 "cells": [
  {
   "cell_type": "markdown",
   "metadata": {},
   "source": [
    "# Importing necessary packages"
   ]
  },
  {
   "cell_type": "code",
   "execution_count": 27,
   "metadata": {},
   "outputs": [],
   "source": [
    "import numpy as np\n",
    "import pandas as pd \n",
    "import matplotlib.pyplot as plt\n",
    "import seaborn as sns\n",
    "from sklearn.model_selection import train_test_split\n",
    "from sklearn.ensemble import RandomForestClassifier\n",
    "from sklearn.metrics import confusion_matrix,accuracy_score,classification_report"
   ]
  },
  {
   "cell_type": "markdown",
   "metadata": {},
   "source": [
    "# Loading data set"
   ]
  },
  {
   "cell_type": "code",
   "execution_count": 28,
   "metadata": {},
   "outputs": [],
   "source": [
    "df_fi = pd.read_csv(r\"C:\\Users\\KEY6\\bank\\Bank_dcf.csv\",sep = ',')"
   ]
  },
  {
   "cell_type": "code",
   "execution_count": 29,
   "metadata": {},
   "outputs": [
    {
     "data": {
      "text/plain": [
       "Index(['Attr1', 'Attr2', 'Attr3', 'Attr4', 'Attr5', 'Attr6', 'Attr8', 'Attr9',\n",
       "       'Attr12', 'Attr13', 'Attr15', 'Attr16', 'Attr19', 'Attr20', 'Attr21',\n",
       "       'Attr22', 'Attr24', 'Attr25', 'Attr27', 'Attr28', 'Attr29', 'Attr30',\n",
       "       'Attr32', 'Attr33', 'Attr34', 'Attr35', 'Attr36', 'Attr37', 'Attr38',\n",
       "       'Attr39', 'Attr40', 'Attr41', 'Attr42', 'Attr43', 'Attr44', 'Attr45',\n",
       "       'Attr46', 'Attr47', 'Attr48', 'Attr49', 'Attr50', 'Attr51', 'Attr53',\n",
       "       'Attr55', 'Attr56', 'Attr57', 'Attr58', 'Attr59', 'Attr60', 'Attr61',\n",
       "       'Attr62', 'Attr63', 'Attr64', 'class'],\n",
       "      dtype='object')"
      ]
     },
     "execution_count": 29,
     "metadata": {},
     "output_type": "execute_result"
    }
   ],
   "source": [
    "df_fi.columns"
   ]
  },
  {
   "cell_type": "code",
   "execution_count": 30,
   "metadata": {},
   "outputs": [
    {
     "data": {
      "text/html": [
       "<div>\n",
       "<style scoped>\n",
       "    .dataframe tbody tr th:only-of-type {\n",
       "        vertical-align: middle;\n",
       "    }\n",
       "\n",
       "    .dataframe tbody tr th {\n",
       "        vertical-align: top;\n",
       "    }\n",
       "\n",
       "    .dataframe thead th {\n",
       "        text-align: right;\n",
       "    }\n",
       "</style>\n",
       "<table border=\"1\" class=\"dataframe\">\n",
       "  <thead>\n",
       "    <tr style=\"text-align: right;\">\n",
       "      <th></th>\n",
       "      <th>Attr1</th>\n",
       "      <th>Attr2</th>\n",
       "      <th>Attr3</th>\n",
       "      <th>Attr4</th>\n",
       "      <th>Attr5</th>\n",
       "      <th>Attr6</th>\n",
       "      <th>Attr8</th>\n",
       "      <th>Attr9</th>\n",
       "      <th>Attr12</th>\n",
       "      <th>Attr13</th>\n",
       "      <th>...</th>\n",
       "      <th>Attr56</th>\n",
       "      <th>Attr57</th>\n",
       "      <th>Attr58</th>\n",
       "      <th>Attr59</th>\n",
       "      <th>Attr60</th>\n",
       "      <th>Attr61</th>\n",
       "      <th>Attr62</th>\n",
       "      <th>Attr63</th>\n",
       "      <th>Attr64</th>\n",
       "      <th>class</th>\n",
       "    </tr>\n",
       "  </thead>\n",
       "  <tbody>\n",
       "    <tr>\n",
       "      <th>0</th>\n",
       "      <td>0.834118</td>\n",
       "      <td>0.031094</td>\n",
       "      <td>0.978440</td>\n",
       "      <td>0.017617</td>\n",
       "      <td>0.741344</td>\n",
       "      <td>0.875099</td>\n",
       "      <td>0.011637</td>\n",
       "      <td>0.013458</td>\n",
       "      <td>0.455331</td>\n",
       "      <td>0.353164</td>\n",
       "      <td>...</td>\n",
       "      <td>0.995314</td>\n",
       "      <td>0.756469</td>\n",
       "      <td>0.009528</td>\n",
       "      <td>0.088799</td>\n",
       "      <td>0.003655</td>\n",
       "      <td>0.013877</td>\n",
       "      <td>0.016297</td>\n",
       "      <td>0.012654</td>\n",
       "      <td>0.277543</td>\n",
       "      <td>0</td>\n",
       "    </tr>\n",
       "    <tr>\n",
       "      <th>1</th>\n",
       "      <td>0.830318</td>\n",
       "      <td>0.035191</td>\n",
       "      <td>0.978221</td>\n",
       "      <td>0.016544</td>\n",
       "      <td>0.741265</td>\n",
       "      <td>0.873559</td>\n",
       "      <td>0.011069</td>\n",
       "      <td>0.011092</td>\n",
       "      <td>0.455096</td>\n",
       "      <td>0.353159</td>\n",
       "      <td>...</td>\n",
       "      <td>0.995311</td>\n",
       "      <td>0.755852</td>\n",
       "      <td>0.009532</td>\n",
       "      <td>0.088799</td>\n",
       "      <td>0.002015</td>\n",
       "      <td>0.009195</td>\n",
       "      <td>0.017675</td>\n",
       "      <td>0.008230</td>\n",
       "      <td>0.277490</td>\n",
       "      <td>0</td>\n",
       "    </tr>\n",
       "    <tr>\n",
       "      <th>2</th>\n",
       "      <td>0.835345</td>\n",
       "      <td>0.024954</td>\n",
       "      <td>0.980172</td>\n",
       "      <td>0.025679</td>\n",
       "      <td>0.741636</td>\n",
       "      <td>0.873560</td>\n",
       "      <td>0.014547</td>\n",
       "      <td>0.015327</td>\n",
       "      <td>0.455589</td>\n",
       "      <td>0.353166</td>\n",
       "      <td>...</td>\n",
       "      <td>0.995322</td>\n",
       "      <td>0.756308</td>\n",
       "      <td>0.009482</td>\n",
       "      <td>0.088799</td>\n",
       "      <td>0.002602</td>\n",
       "      <td>0.010925</td>\n",
       "      <td>0.015979</td>\n",
       "      <td>0.015947</td>\n",
       "      <td>0.278090</td>\n",
       "      <td>0</td>\n",
       "    </tr>\n",
       "    <tr>\n",
       "      <th>3</th>\n",
       "      <td>0.834666</td>\n",
       "      <td>0.037560</td>\n",
       "      <td>0.977635</td>\n",
       "      <td>0.014879</td>\n",
       "      <td>0.741095</td>\n",
       "      <td>0.873560</td>\n",
       "      <td>0.010558</td>\n",
       "      <td>0.014099</td>\n",
       "      <td>0.455333</td>\n",
       "      <td>0.353170</td>\n",
       "      <td>...</td>\n",
       "      <td>0.995352</td>\n",
       "      <td>0.756829</td>\n",
       "      <td>0.009456</td>\n",
       "      <td>0.088912</td>\n",
       "      <td>0.002859</td>\n",
       "      <td>0.013745</td>\n",
       "      <td>0.016553</td>\n",
       "      <td>0.011177</td>\n",
       "      <td>0.277513</td>\n",
       "      <td>0</td>\n",
       "    </tr>\n",
       "    <tr>\n",
       "      <th>4</th>\n",
       "      <td>0.831538</td>\n",
       "      <td>0.028123</td>\n",
       "      <td>0.978924</td>\n",
       "      <td>0.019947</td>\n",
       "      <td>0.741467</td>\n",
       "      <td>0.874206</td>\n",
       "      <td>0.012643</td>\n",
       "      <td>0.013307</td>\n",
       "      <td>0.455200</td>\n",
       "      <td>0.353152</td>\n",
       "      <td>...</td>\n",
       "      <td>0.995307</td>\n",
       "      <td>0.755990</td>\n",
       "      <td>0.009555</td>\n",
       "      <td>0.088799</td>\n",
       "      <td>0.002985</td>\n",
       "      <td>0.012217</td>\n",
       "      <td>0.016158</td>\n",
       "      <td>0.013799</td>\n",
       "      <td>0.277552</td>\n",
       "      <td>0</td>\n",
       "    </tr>\n",
       "  </tbody>\n",
       "</table>\n",
       "<p>5 rows × 54 columns</p>\n",
       "</div>"
      ],
      "text/plain": [
       "      Attr1     Attr2     Attr3     Attr4     Attr5     Attr6     Attr8  \\\n",
       "0  0.834118  0.031094  0.978440  0.017617  0.741344  0.875099  0.011637   \n",
       "1  0.830318  0.035191  0.978221  0.016544  0.741265  0.873559  0.011069   \n",
       "2  0.835345  0.024954  0.980172  0.025679  0.741636  0.873560  0.014547   \n",
       "3  0.834666  0.037560  0.977635  0.014879  0.741095  0.873560  0.010558   \n",
       "4  0.831538  0.028123  0.978924  0.019947  0.741467  0.874206  0.012643   \n",
       "\n",
       "      Attr9    Attr12    Attr13  ...    Attr56    Attr57    Attr58    Attr59  \\\n",
       "0  0.013458  0.455331  0.353164  ...  0.995314  0.756469  0.009528  0.088799   \n",
       "1  0.011092  0.455096  0.353159  ...  0.995311  0.755852  0.009532  0.088799   \n",
       "2  0.015327  0.455589  0.353166  ...  0.995322  0.756308  0.009482  0.088799   \n",
       "3  0.014099  0.455333  0.353170  ...  0.995352  0.756829  0.009456  0.088912   \n",
       "4  0.013307  0.455200  0.353152  ...  0.995307  0.755990  0.009555  0.088799   \n",
       "\n",
       "     Attr60    Attr61    Attr62    Attr63    Attr64  class  \n",
       "0  0.003655  0.013877  0.016297  0.012654  0.277543      0  \n",
       "1  0.002015  0.009195  0.017675  0.008230  0.277490      0  \n",
       "2  0.002602  0.010925  0.015979  0.015947  0.278090      0  \n",
       "3  0.002859  0.013745  0.016553  0.011177  0.277513      0  \n",
       "4  0.002985  0.012217  0.016158  0.013799  0.277552      0  \n",
       "\n",
       "[5 rows x 54 columns]"
      ]
     },
     "execution_count": 30,
     "metadata": {},
     "output_type": "execute_result"
    }
   ],
   "source": [
    "df_fi.head()"
   ]
  },
  {
   "cell_type": "code",
   "execution_count": 31,
   "metadata": {},
   "outputs": [
    {
     "data": {
      "text/plain": [
       "(10083, 54)"
      ]
     },
     "execution_count": 31,
     "metadata": {},
     "output_type": "execute_result"
    }
   ],
   "source": [
    "df_fi.shape"
   ]
  },
  {
   "cell_type": "markdown",
   "metadata": {},
   "source": [
    "# Assigning data features to X ,and Target class to y"
   ]
  },
  {
   "cell_type": "code",
   "execution_count": 32,
   "metadata": {},
   "outputs": [
    {
     "data": {
      "text/plain": [
       "0    9685\n",
       "1     398\n",
       "Name: class, dtype: int64"
      ]
     },
     "execution_count": 32,
     "metadata": {},
     "output_type": "execute_result"
    }
   ],
   "source": [
    "\n",
    "x = df_fi.iloc[:,0:53]\n",
    "\n",
    "x.shape\n",
    "\n",
    "y = df_fi.iloc[:,53]\n",
    "\n",
    "y.value_counts()\n"
   ]
  },
  {
   "cell_type": "markdown",
   "metadata": {},
   "source": [
    "# Train Test split"
   ]
  },
  {
   "cell_type": "code",
   "execution_count": 33,
   "metadata": {},
   "outputs": [],
   "source": [
    "\n",
    "x_train,x_test,y_train,y_test=train_test_split(x,y,test_size=0.40, random_state=42)\n"
   ]
  },
  {
   "cell_type": "code",
   "execution_count": 34,
   "metadata": {},
   "outputs": [
    {
     "name": "stdout",
     "output_type": "stream",
     "text": [
      "After spliting, counts of label '1' in TRAIN data: 239 \n",
      "After spliting, counts of label '0' in TRAIN data: 5810\n"
     ]
    }
   ],
   "source": [
    "print(\"After spliting, counts of label '1' in TRAIN data: {} \".format(y_train[y_train==1].shape[0]))\n",
    "print(\"After spliting, counts of label '0' in TRAIN data: {}\".format(y_train[y_train==0].shape[0]))"
   ]
  },
  {
   "cell_type": "code",
   "execution_count": 35,
   "metadata": {},
   "outputs": [
    {
     "name": "stdout",
     "output_type": "stream",
     "text": [
      "After spliting, counts of label '1' in TEST data: 159 \n",
      "After spliting, counts of label '0' in TEST data: 3875\n"
     ]
    }
   ],
   "source": [
    "print(\"After spliting, counts of label '1' in TEST data: {} \".format(y_test[y_test==1].shape[0]))\n",
    "print(\"After spliting, counts of label '0' in TEST data: {}\".format(y_test[y_test==0].shape[0]))"
   ]
  },
  {
   "cell_type": "markdown",
   "metadata": {},
   "source": [
    "# logistic regression model classifying"
   ]
  },
  {
   "cell_type": "code",
   "execution_count": 36,
   "metadata": {},
   "outputs": [],
   "source": [
    "from sklearn.linear_model import LogisticRegression"
   ]
  },
  {
   "cell_type": "code",
   "execution_count": 37,
   "metadata": {},
   "outputs": [],
   "source": [
    "model_lr = LogisticRegression()"
   ]
  },
  {
   "cell_type": "code",
   "execution_count": 38,
   "metadata": {},
   "outputs": [
    {
     "name": "stderr",
     "output_type": "stream",
     "text": [
      "C:\\Users\\KEY6\\Anaconda3\\lib\\site-packages\\sklearn\\linear_model\\logistic.py:432: FutureWarning: Default solver will be changed to 'lbfgs' in 0.22. Specify a solver to silence this warning.\n",
      "  FutureWarning)\n"
     ]
    },
    {
     "data": {
      "text/plain": [
       "LogisticRegression(C=1.0, class_weight=None, dual=False, fit_intercept=True,\n",
       "                   intercept_scaling=1, l1_ratio=None, max_iter=100,\n",
       "                   multi_class='warn', n_jobs=None, penalty='l2',\n",
       "                   random_state=None, solver='warn', tol=0.0001, verbose=0,\n",
       "                   warm_start=False)"
      ]
     },
     "execution_count": 38,
     "metadata": {},
     "output_type": "execute_result"
    }
   ],
   "source": [
    "model_lr.fit(x_train,y_train)"
   ]
  },
  {
   "cell_type": "markdown",
   "metadata": {},
   "source": [
    "# Confusion matrix and classification report"
   ]
  },
  {
   "cell_type": "code",
   "execution_count": 39,
   "metadata": {},
   "outputs": [
    {
     "name": "stdout",
     "output_type": "stream",
     "text": [
      "              precision    recall  f1-score   support\n",
      "\n",
      "           0       0.96      1.00      0.98      3875\n",
      "           1       0.00      0.00      0.00       159\n",
      "\n",
      "    accuracy                           0.96      4034\n",
      "   macro avg       0.48      0.50      0.49      4034\n",
      "weighted avg       0.92      0.96      0.94      4034\n",
      "\n",
      "[[3875    0]\n",
      " [ 159    0]]\n",
      "0.9605850272682201\n"
     ]
    },
    {
     "name": "stderr",
     "output_type": "stream",
     "text": [
      "C:\\Users\\KEY6\\Anaconda3\\lib\\site-packages\\sklearn\\metrics\\classification.py:1437: UndefinedMetricWarning: Precision and F-score are ill-defined and being set to 0.0 in labels with no predicted samples.\n",
      "  'precision', 'predicted', average, warn_for)\n"
     ]
    }
   ],
   "source": [
    "y_predicted=model_lr.predict(x_test)\n",
    "\n",
    "print(classification_report(y_test, y_predicted))\n",
    "\n",
    "cm=confusion_matrix(y_test, y_predicted)\n",
    "print(cm)\n",
    "print(accuracy_score(y_test, y_predicted))\n"
   ]
  },
  {
   "cell_type": "markdown",
   "metadata": {},
   "source": [
    "# AUC ROC curve"
   ]
  },
  {
   "cell_type": "code",
   "execution_count": 40,
   "metadata": {},
   "outputs": [],
   "source": [
    "import sklearn.metrics as metrics\n",
    "# calculate the fpr and tpr for all thresholds of the classification\n",
    "probs = model_lr.predict_proba(x_test)\n",
    "preds = probs[:,1]\n",
    "fpr, tpr, threshold = metrics.roc_curve(y_test, preds)\n",
    "roc_auc = metrics.auc(fpr, tpr)"
   ]
  },
  {
   "cell_type": "code",
   "execution_count": 41,
   "metadata": {},
   "outputs": [
    {
     "data": {
      "image/png": "[encoded data removed]",
      "text/plain": [
       "<Figure size 432x288 with 1 Axes>"
      ]
     },
     "metadata": {
      "needs_background": "light"
     },
     "output_type": "display_data"
    }
   ],
   "source": [
    "\n",
    "# method I: plt\n",
    "import matplotlib.pyplot as plt\n",
    "plt.title('Receiver Operating Characteristic')\n",
    "plt.plot(fpr, tpr, 'b', label = 'AUC = %0.2f' % roc_auc)\n",
    "plt.legend(loc = 'lower right')\n",
    "plt.plot([0, 1], [0, 1],'r--')\n",
    "plt.xlim([0, 1])\n",
    "plt.ylim([0, 1])\n",
    "plt.ylabel('True Positive Rate')\n",
    "plt.xlabel('False Positive Rate')\n",
    "plt.show()\n"
   ]
  },
  {
   "cell_type": "code",
   "execution_count": null,
   "metadata": {},
   "outputs": [],
   "source": []
  },
  {
   "cell_type": "code",
   "execution_count": 42,
   "metadata": {},
   "outputs": [],
   "source": [
    "# auc value"
   ]
  },
  {
   "cell_type": "code",
   "execution_count": 43,
   "metadata": {},
   "outputs": [
    {
     "name": "stdout",
     "output_type": "stream",
     "text": [
      "AUC value 0.6306966930411848\n"
     ]
    }
   ],
   "source": [
    "print(\"AUC value\",roc_auc)"
   ]
  },
  {
   "cell_type": "code",
   "execution_count": 44,
   "metadata": {},
   "outputs": [],
   "source": [
    "gini = (2*roc_auc)-1"
   ]
  },
  {
   "cell_type": "code",
   "execution_count": 45,
   "metadata": {},
   "outputs": [
    {
     "name": "stdout",
     "output_type": "stream",
     "text": [
      "gini score =  0.2613933860823696\n"
     ]
    }
   ],
   "source": [
    "print(\"gini score = \",gini)"
   ]
  },
  {
   "cell_type": "code",
   "execution_count": 46,
   "metadata": {},
   "outputs": [],
   "source": [
    "confi_lvl = model_lr.predict_proba(x)"
   ]
  },
  {
   "cell_type": "code",
   "execution_count": 47,
   "metadata": {},
   "outputs": [],
   "source": [
    "confi_lvl = pd.DataFrame(confi_lvl)"
   ]
  },
  {
   "cell_type": "code",
   "execution_count": 48,
   "metadata": {},
   "outputs": [
    {
     "data": {
      "text/plain": [
       "array([[<matplotlib.axes._subplots.AxesSubplot object at 0x000002429BA45240>,\n",
       "        <matplotlib.axes._subplots.AxesSubplot object at 0x000002429BA72B00>]],\n",
       "      dtype=object)"
      ]
     },
     "execution_count": 48,
     "metadata": {},
     "output_type": "execute_result"
    },
    {
     "data": {
      "image/png": "[encoded data removed]",
      "text/plain": [
       "<Figure size 432x288 with 2 Axes>"
      ]
     },
     "metadata": {
      "needs_background": "light"
     },
     "output_type": "display_data"
    }
   ],
   "source": [
    "confi_lvl.hist()"
   ]
  },
  {
   "cell_type": "code",
   "execution_count": null,
   "metadata": {},
   "outputs": [],
   "source": []
  },
  {
   "cell_type": "code",
   "execution_count": 49,
   "metadata": {},
   "outputs": [],
   "source": [
    "feature_importance = abs(model_lr.coef_[0])\n",
    "feature_importance = 100.0 * (feature_importance / feature_importance.max())\n",
    "sorted_idx = np.argsort(feature_importance)\n",
    "pos = np.arange(sorted_idx.shape[0]) + .5"
   ]
  },
  {
   "cell_type": "code",
   "execution_count": 50,
   "metadata": {},
   "outputs": [
    {
     "data": {
      "text/plain": [
       "array([ 46.10846316,  95.96109451,  33.56111455,  68.6661158 ,\n",
       "        19.99404666,  24.56855463,  33.79412742,   6.72297005,\n",
       "        14.17026414,   7.95263973,   4.0420077 ,  14.22010393,\n",
       "         7.94358911,  17.94599992,  14.86326989,   9.27057764,\n",
       "        14.21975239,  29.98454541,   1.59799463,  12.284919  ,\n",
       "        10.91261806,   1.44630866,   4.04739043,  15.8941756 ,\n",
       "         5.91793828,  10.08912006,   7.76645767,   4.25236693,\n",
       "        26.22000356,  22.91086375,   9.53912628,  16.43096778,\n",
       "        21.11766242,   3.59102441,   3.77112601,   3.5183518 ,\n",
       "        30.53808467,   1.0699598 ,   9.37185498,  22.42800656,\n",
       "        28.90663446, 100.        ,   4.71949372,  20.28381254,\n",
       "        22.28037724,  20.19065113,   0.56459272,   1.78942788,\n",
       "         2.95656303,   2.5067693 ,   5.14054636,  54.3307856 ,\n",
       "         5.74918205])"
      ]
     },
     "execution_count": 50,
     "metadata": {},
     "output_type": "execute_result"
    }
   ],
   "source": [
    "feature_importance"
   ]
  },
  {
   "cell_type": "code",
   "execution_count": 51,
   "metadata": {},
   "outputs": [
    {
     "data": {
      "image/png": "[encoded data removed]",
      "text/plain": [
       "<Figure size 720x1440 with 1 Axes>"
      ]
     },
     "metadata": {
      "needs_background": "light"
     },
     "output_type": "display_data"
    }
   ],
   "source": [
    "featfig = plt.figure(figsize=(10,20))\n",
    "featax = featfig.add_subplot(1, 1, 1)\n",
    "featax.barh(pos, feature_importance[sorted_idx], align='center')\n",
    "featax.set_yticks(pos)\n",
    "featax.set_yticklabels(np.array(x.columns)[sorted_idx], fontsize=8)\n",
    "featax.set_xlabel('Relative Feature Importance')\n",
    "\n",
    "plt.tight_layout()   \n",
    "plt.show()"
   ]
  },
  {
   "cell_type": "code",
   "execution_count": 56,
   "metadata": {},
   "outputs": [],
   "source": [
    "from sklearn.metrics import cohen_kappa_score"
   ]
  },
  {
   "cell_type": "code",
   "execution_count": 57,
   "metadata": {},
   "outputs": [
    {
     "data": {
      "text/plain": [
       "0.0"
      ]
     },
     "execution_count": 57,
     "metadata": {},
     "output_type": "execute_result"
    }
   ],
   "source": [
    "cohen_kappa_score(y_test,y_predicted)"
   ]
  },
  {
   "cell_type": "code",
   "execution_count": null,
   "metadata": {},
   "outputs": [],
   "source": []
  }
 ],
 "metadata": {
  "kernelspec": {
   "display_name": "Python 3",
   "language": "python",
   "name": "python3"
  },
  "language_info": {
   "codemirror_mode": {
    "name": "ipython",
    "version": 3
   },
   "file_extension": ".py",
   "mimetype": "text/x-python",
   "name": "python",
   "nbconvert_exporter": "python",
   "pygments_lexer": "ipython3",
   "version": "3.7.3"
  },
  "toc": {
   "base_numbering": 1,
   "nav_menu": {},
   "number_sections": true,
   "sideBar": true,
   "skip_h1_title": false,
   "title_cell": "Table of Contents",
   "title_sidebar": "Contents",
   "toc_cell": false,
   "toc_position": {},
   "toc_section_display": true,
   "toc_window_display": false
  },
  "varInspector": {
   "cols": {
    "lenName": 16,
    "lenType": 16,
    "lenVar": 40
   },
   "kernels_config": {
    "python": {
     "delete_cmd_postfix": "",
     "delete_cmd_prefix": "del ",
     "library": "var_list.py",
     "varRefreshCmd": "print(var_dic_list())"
    },
    "r": {
     "delete_cmd_postfix": ") ",
     "delete_cmd_prefix": "rm(",
     "library": "var_list.r",
     "varRefreshCmd": "cat(var_dic_list()) "
    }
   },
   "types_to_exclude": [
    "module",
    "function",
    "builtin_function_or_method",
    "instance",
    "_Feature"
   ],
   "window_display": false
  }
 },
 "nbformat": 4,
 "nbformat_minor": 2
}
